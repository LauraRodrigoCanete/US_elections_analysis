{
 "cells": [
  {
   "cell_type": "markdown",
   "id": "20dd9426-3a7a-4d15-a995-93efafa83f4f",
   "metadata": {},
   "source": [
    "## Program: continue processing tweet data"
   ]
  },
  {
   "cell_type": "code",
   "execution_count": 4,
   "id": "d563a60b",
   "metadata": {},
   "outputs": [],
   "source": [
    "import glob\n",
    "import numpy as np\n",
    "import pandas as pd\n",
    "import polars as pl\n",
    "from datetime import datetime\n",
    "import transformers\n",
    "from transformers import pipeline\n",
    "import datasets\n",
    "import torch\n",
    "import os\n",
    "import pickle\n",
    "from collections import Counter\n",
    "import re\n",
    "import emoji\n",
    "import json"
   ]
  },
  {
   "cell_type": "code",
   "execution_count": 2,
   "id": "56e257f4",
   "metadata": {},
   "outputs": [
    {
     "name": "stdout",
     "output_type": "stream",
     "text": [
      "(46915, 3)\n",
      "(23716, 3)\n",
      "(12333, 3)\n"
     ]
    }
   ],
   "source": [
    "dir_16 = \"../fase2_procesadodatos/tweets16_filtered.csv\"\n",
    "dir_20 = \"../fase2_procesadodatos/tweets20_filtered.csv\"\n",
    "dir_24 = \"../fase2_procesadodatos/tweets24_filtered.csv\"\n",
    "\n",
    "df_16_filtered = pd.read_csv(dir_16)\n",
    "df_16_filtered['Date'] = pd.to_datetime(df_16_filtered['Date'])\n",
    "print(df_16_filtered.shape)\n",
    "\n",
    "df_20_filtered = pd.read_csv(dir_20)\n",
    "df_20_filtered['Date'] = pd.to_datetime(df_20_filtered['Date'])\n",
    "print(df_20_filtered.shape)\n",
    "\n",
    "df_24_filtered = pd.read_csv(dir_24)\n",
    "df_24_filtered['Date'] = pd.to_datetime(df_24_filtered['Date'])\n",
    "print(df_24_filtered.shape)"
   ]
  },
  {
   "cell_type": "code",
   "execution_count": 3,
   "id": "f09d0954",
   "metadata": {},
   "outputs": [],
   "source": [
    "def filter_candidates(df, contain = None, not_contain = None):\n",
    "    if contain is not None:\n",
    "        filter_contain = df.Tweet.str.contains(contain[0], case=False)\n",
    "        for keyword in contain[1:]:\n",
    "            filter_contain |= df.Tweet.str.contains(keyword, case=False) # OR (we want at least one of the keywords)\n",
    "        df = df[filter_contain].copy()\n",
    "        df.reset_index(drop=True, inplace=True)\n",
    "\n",
    "    if not_contain is not None:\n",
    "        filter_not_contain = ~df.Tweet.str.contains(not_contain[0], case=False)\n",
    "        for keyword in not_contain[1:]:\n",
    "            filter_not_contain &= ~df.Tweet.str.contains(keyword, case=False) # AND (we want none of the keywords)\n",
    "        df = df[filter_not_contain].copy()\n",
    "        df.reset_index(drop=True, inplace=True)\n",
    "\n",
    "    return df"
   ]
  },
  {
   "cell_type": "code",
   "execution_count": 4,
   "id": "6fac8ff4",
   "metadata": {},
   "outputs": [],
   "source": [
    "df_16_dem = filter_candidates(df_16_filtered, contain = ['@HillaryClinton'], not_contain = ['@realDonaldTrump',\"Donald\", \"Trump\"])\n",
    "df_16_rep = filter_candidates(df_16_filtered, contain = ['@realDonaldTrump'], not_contain = ['@HillaryClinton',\"Hillary\",\"Clinton\"])\n",
    "\n",
    "df_20_dem = filter_candidates(df_20_filtered, contain = ['@JoeBiden'], not_contain = ['@realDonaldTrump',\"Donald\", \"Trump\"])\n",
    "df_20_rep = filter_candidates(df_20_filtered, contain = ['@realDonaldTrump'], not_contain = ['@JoeBiden',\"Joe\",\"Biden\"])\n",
    "\n",
    "df_24_dem = filter_candidates(df_24_filtered, contain =['@KamalaHarris','@JoeBiden'], not_contain = ['@realDonaldTrump',\"Donald\", \"Trump\"])\n",
    "df_24_rep = filter_candidates(df_24_filtered, contain =['@realDonaldTrump'], not_contain = ['@KamalaHarris','@JoeBiden',\"Kamala\",\"Harris\",\"Joe\",\"Biden\"])"
   ]
  },
  {
   "cell_type": "code",
   "execution_count": 5,
   "id": "54835e67",
   "metadata": {},
   "outputs": [],
   "source": [
    "# Intersection of users\n",
    "\n",
    "# Get unique users from each dataframe\n",
    "users_16 = set(df_16_dem[\"User\"].unique()) | set(df_16_rep[\"User\"].unique())\n",
    "users_20 = set(df_20_dem[\"User\"].unique()) | set(df_20_rep[\"User\"].unique())\n",
    "users_24 = set(df_24_dem[\"User\"].unique()) | set(df_24_rep[\"User\"].unique())\n",
    "\n",
    "# Calculate the intersection of users\n",
    "user_intersection = users_24 & users_16 & users_20\n",
    "\n",
    "# we filter the dataframes\n",
    "df_16_dem = df_16_dem[df_16_dem[\"User\"].isin(user_intersection)].reset_index(drop=True)\n",
    "df_16_rep = df_16_rep[df_16_rep[\"User\"].isin(user_intersection)].reset_index(drop=True)\n",
    "df_20_dem = df_20_dem[df_20_dem[\"User\"].isin(user_intersection)].reset_index(drop=True)\n",
    "df_20_rep = df_20_rep[df_20_rep[\"User\"].isin(user_intersection)].reset_index(drop=True)\n",
    "df_24_dem = df_24_dem[df_24_dem[\"User\"].isin(user_intersection)].reset_index(drop=True)\n",
    "df_24_rep = df_24_rep[df_24_rep[\"User\"].isin(user_intersection)].reset_index(drop=True)"
   ]
  },
  {
   "cell_type": "code",
   "execution_count": 6,
   "id": "636b4468",
   "metadata": {},
   "outputs": [
    {
     "data": {
      "text/plain": [
       "((15102, 3), (20987, 3), (4940, 3), (13166, 3), (5878, 3), (3537, 3))"
      ]
     },
     "execution_count": 6,
     "metadata": {},
     "output_type": "execute_result"
    }
   ],
   "source": [
    "df_16_dem.shape, df_16_rep.shape, df_20_dem.shape, df_20_rep.shape, df_24_dem.shape, df_24_rep.shape"
   ]
  },
  {
   "cell_type": "code",
   "execution_count": null,
   "id": "63e70d92",
   "metadata": {},
   "outputs": [],
   "source": [
    "# we save them to csv \n",
    "df_16_dem.to_csv(\"tweets/tweets16_dem.csv\", index=False)\n",
    "df_16_rep.to_csv(\"tweets/tweets16_rep.csv\", index=False)\n",
    "df_20_dem.to_csv(\"tweets/tweets20_dem.csv\", index=False)\n",
    "df_20_rep.to_csv(\"tweets/tweets20_rep.csv\", index=False)\n",
    "df_24_dem.to_csv(\"tweets/tweets24_dem.csv\", index=False)\n",
    "df_24_rep.to_csv(\"tweets/tweets24_rep.csv\", index=False)"
   ]
  },
  {
   "cell_type": "markdown",
   "id": "12687e01",
   "metadata": {},
   "source": [
    "### Descriptive statistics \n",
    "##### How has the format of tweets evolved over time?"
   ]
  },
  {
   "cell_type": "markdown",
   "id": "ea21937e",
   "metadata": {},
   "source": [
    "- Number of emojis\n",
    "- Number of hashtags\n",
    "- Number of mentions\n",
    "- Number of urls"
   ]
  },
  {
   "cell_type": "code",
   "execution_count": 7,
   "id": "fba4653d",
   "metadata": {},
   "outputs": [],
   "source": [
    "# Function to count real emojis in a tweet\n",
    "def count_real_emojis(text):\n",
    "    return len([char for char in text if char in emoji.EMOJI_DATA])\n",
    "\n",
    "# Function to count emoji descriptions (assuming words like \"face with heart-shaped eyes\" appear in text)\n",
    "def count_text_emojis(text):\n",
    "    # We manually look for the text codification that twitter uses for some of the most popular emojis\n",
    "    # We add the rest by using a JSON file\n",
    "    with open(\"emoji-dict.json\", \"r\", encoding=\"utf-8\") as f:\n",
    "        data = json.load(f)\n",
    "\n",
    "    # Extract names\n",
    "    emoji_names = [entry[\"name\"] for entry in data.values()] + [\"Call me hand\",\"Leftwards hand\",\"Rightwards hand\",\"Leftwards pushing hand\",\"Leg\",\"Nail polish\",\"Selfie\",\"Writing hand\",\"Index pointing at the viewer\",\"Reversed hand with middle finger extended\",\"Mechanical arm\",\"Flexed biceps\",\"Rightwards pushing hand\",\"Mechanical leg\",\"Foot\",\"Mouth\",\"Biting lip\",\"Tooth\",\"Tongue\",\"Ear\",\"Ear with hearing aid\",\"Nose\",\"Crown\",\"Red heart\",\"Orange heart\",\"Yellow heart\",\"Green heart\",\"Blue heart\",\"Purple heart\",\"Brown heart\",\"Black heart\",\"White heart\",\"Heart with ribbon\",\"Heart with arrow\",\"Sparkling heart\",\"Growing heart\",\"Beating heart\",\"Revolving hearts\",\"Two hearts\",\"Heart exclamation\",\"Broken heart\",\"Heart on fire\",\"Mending heart\",\"Heart decoration\",\"No entry\",\"Squared sos\",\"Hundred points symbol\",\"Red question mark ornament\",\"White question mark ornament\",\"Musical note\",\"Multiple musical notes\",\"Red circle\",\"Orange circle\",\"Yellow circle\",\"Green circle\",\"Blue circle\",\"Purple circle\",\"Ballot box with check\",\"Brown circle\",\"Black circle\",\"White circle\",\"Red square\",\"Orange square\",\"Yellow square\",\"Green square\",\"Blue square\",\"Purple square\",\"Brown square\",\"Black large square\",\"White large square\",\"Black medium square\",\"Speaker with one sound wave\",\"Speaker with three sound waves\",\"Speaker with cancellation stroke\",\"Cheering megaphone\",\"Public address loudspeaker\",\"Bell\",\"Bell with cancellation stroke\",\"American football\",\"Flag of U.S. Virgin Islands\",\"Earth globe americas\",\"Flag of United States\",\"Grinning face\",\"Smiling face with open mouth\",\"Smiling face with open mouth and smiling eyes\",\"Grinning face with smiling eyes\",\"Smiling face with open mouth and cold sweat\",\"Face with tears of joy\",\"Rolling on the floor laughing\",\"Smiling face with halo\",\"Smiling face with sunglasses\",\"Money-mouth face\",\"Smiling face with open hands\",\"Grimacing face\",\"Pleading face\",\"Face with look of triumph\",\"Pouting face\",\"Face with symbols over mouth\",\"Sleepy face\",\"Crying face\",\"Loudly crying face\",\"Hot face\"]\n",
    "\n",
    "    # Extend the regex pattern\n",
    "    emoji_words_pattern = r'\\b(?:' + '|'.join(emoji_names) + r')\\b'\n",
    "\n",
    "    # Find matches\n",
    "    matches = re.findall(emoji_words_pattern, text, re.IGNORECASE)\n",
    "\n",
    "    return len(matches)"
   ]
  },
  {
   "cell_type": "code",
   "execution_count": null,
   "id": "6e8b6297",
   "metadata": {},
   "outputs": [
    {
     "name": "stdout",
     "output_type": "stream",
     "text": [
      "Mean number of emojis per tweet in 2016: 0.13\n",
      "Mean number of emojis per tweet in 2020: 0.35\n",
      "Mean number of emojis per tweet in 2024: 0.28\n"
     ]
    }
   ],
   "source": [
    "# Calculate mean emoji count per tweet for each dataset\n",
    "df_16_filtered[\"emoji_count\"] = df_16_filtered[\"Tweet\"].astype(str).apply(count_real_emojis)\n",
    "df_20_filtered[\"emoji_count\"] = df_20_filtered[\"Tweet\"].astype(str).apply(count_real_emojis)\n",
    "df_24_filtered[\"emoji_count\"] = df_24_filtered[\"Tweet\"].astype(str).apply(count_real_emojis) # in the actual project here we had to use count_text_emojis but now the web scraping code is fixed to encode emojis as real emojis again\n",
    "\n",
    "mean_emoji_16 = df_16_filtered[\"emoji_count\"].mean()\n",
    "mean_emoji_20 = df_20_filtered[\"emoji_count\"].mean()\n",
    "mean_emoji_24 = df_24_filtered[\"emoji_count\"].mean()\n",
    "\n",
    "# Print results\n",
    "print(f\"Mean number of emojis per tweet in 2016: {mean_emoji_16:.2f}\")\n",
    "print(f\"Mean number of emojis per tweet in 2020: {mean_emoji_20:.2f}\")\n",
    "print(f\"Mean number of emojis per tweet in 2024: {mean_emoji_24:.2f}\")"
   ]
  },
  {
   "cell_type": "code",
   "execution_count": 9,
   "id": "85532da6",
   "metadata": {},
   "outputs": [
    {
     "name": "stdout",
     "output_type": "stream",
     "text": [
      "Mean number of hashtags per tweet in 2016: 0.58\n",
      "Mean number of hashtags per tweet in 2020: 0.59\n",
      "Mean number of hashtags per tweet in 2024: 0.32\n"
     ]
    }
   ],
   "source": [
    "# Function to count hashtags followed by a letter (it's how hashtags are defined in Twitter)\n",
    "def count_hashtags(text):\n",
    "    return len(re.findall(r'#\\b[a-zA-Z]\\w*', text))\n",
    "\n",
    "# Apply to each DataFrame\n",
    "df_16_filtered[\"hashtag_count\"] = df_16_filtered[\"Tweet\"].astype(str).apply(count_hashtags)\n",
    "df_20_filtered[\"hashtag_count\"] = df_20_filtered[\"Tweet\"].astype(str).apply(count_hashtags)\n",
    "df_24_filtered[\"hashtag_count\"] = df_24_filtered[\"Tweet\"].astype(str).apply(count_hashtags)\n",
    "\n",
    "# Compute mean hashtag count per tweet\n",
    "mean_hashtag_16 = df_16_filtered[\"hashtag_count\"].mean()\n",
    "mean_hashtag_20 = df_20_filtered[\"hashtag_count\"].mean()\n",
    "mean_hashtag_24 = df_24_filtered[\"hashtag_count\"].mean()\n",
    "\n",
    "# Print results\n",
    "print(f\"Mean number of hashtags per tweet in 2016: {mean_hashtag_16:.2f}\")\n",
    "print(f\"Mean number of hashtags per tweet in 2020: {mean_hashtag_20:.2f}\")\n",
    "print(f\"Mean number of hashtags per tweet in 2024: {mean_hashtag_24:.2f}\")"
   ]
  },
  {
   "cell_type": "code",
   "execution_count": 10,
   "id": "ebaadefc",
   "metadata": {},
   "outputs": [
    {
     "name": "stdout",
     "output_type": "stream",
     "text": [
      "Mean number of mentions per tweet in 2016: 1.89\n",
      "Mean number of mentions per tweet in 2020: 1.97\n",
      "Mean number of mentions per tweet in 2024: 1.79\n"
     ]
    }
   ],
   "source": [
    "# Function to count mentions (excluding \"RT @user:\" because in 2016 retweets were saved like that and we don't want to include them in the analysis)\n",
    "def count_mentions(text, exclude_rt=False):\n",
    "    if exclude_rt:\n",
    "        text = re.sub(r'^RT @\\w+: ', '', text)  # Remove \"RT @user: \" at the start\n",
    "    return len(re.findall(r'@\\w+', text))  # Count mentions (@ followed by letters, numbers, _)\n",
    "\n",
    "# Apply to each DataFrame\n",
    "df_16_filtered[\"mention_count\"] = df_16_filtered[\"Tweet\"].astype(str).apply(lambda x: count_mentions(x, exclude_rt=True))\n",
    "df_20_filtered[\"mention_count\"] = df_20_filtered[\"Tweet\"].astype(str).apply(lambda x: count_mentions(x, exclude_rt=False))\n",
    "df_24_filtered[\"mention_count\"] = df_24_filtered[\"Tweet\"].astype(str).apply(lambda x: count_mentions(x, exclude_rt=False))\n",
    "\n",
    "# Compute mean mention count per tweet\n",
    "mean_mentions_16 = df_16_filtered[\"mention_count\"].mean()\n",
    "mean_mentions_20 = df_20_filtered[\"mention_count\"].mean()\n",
    "mean_mentions_24 = df_24_filtered[\"mention_count\"].mean()\n",
    "\n",
    "# Print results\n",
    "print(f\"Mean number of mentions per tweet in 2016: {mean_mentions_16:.2f}\")\n",
    "print(f\"Mean number of mentions per tweet in 2020: {mean_mentions_20:.2f}\")\n",
    "print(f\"Mean number of mentions per tweet in 2024: {mean_mentions_24:.2f}\")"
   ]
  },
  {
   "cell_type": "code",
   "execution_count": 11,
   "id": "b97de3d1",
   "metadata": {},
   "outputs": [
    {
     "name": "stdout",
     "output_type": "stream",
     "text": [
      "Mean number of URLs per tweet in 2016: 0.43\n",
      "Mean number of URLs per tweet in 2020: 0.48\n",
      "Mean number of URLs per tweet in 2024: 0.03\n"
     ]
    }
   ],
   "source": [
    "# Function to count URLs starting with \"https://\"\n",
    "def count_urls(text):\n",
    "    return len(re.findall(r'https://\\S+', text, re.IGNORECASE))\n",
    "\n",
    "# Apply to each DataFrame\n",
    "df_16_filtered[\"url_count\"] = df_16_filtered[\"Tweet\"].astype(str).apply(count_urls)\n",
    "df_20_filtered[\"url_count\"] = df_20_filtered[\"Tweet\"].astype(str).apply(count_urls)\n",
    "df_24_filtered[\"url_count\"] = df_24_filtered[\"Tweet\"].astype(str).apply(count_urls)\n",
    "\n",
    "# Compute mean URL count per tweet\n",
    "mean_url_16 = df_16_filtered[\"url_count\"].mean()\n",
    "mean_url_20 = df_20_filtered[\"url_count\"].mean()\n",
    "mean_url_24 = df_24_filtered[\"url_count\"].mean()\n",
    "\n",
    "# Print results\n",
    "print(f\"Mean number of URLs per tweet in 2016: {mean_url_16:.2f}\")\n",
    "print(f\"Mean number of URLs per tweet in 2020: {mean_url_20:.2f}\")\n",
    "print(f\"Mean number of URLs per tweet in 2024: {mean_url_24:.2f}\")"
   ]
  }
 ],
 "metadata": {
  "kernelspec": {
   "display_name": "Python 3",
   "language": "python",
   "name": "python3"
  },
  "language_info": {
   "codemirror_mode": {
    "name": "ipython",
    "version": 3
   },
   "file_extension": ".py",
   "mimetype": "text/x-python",
   "name": "python",
   "nbconvert_exporter": "python",
   "pygments_lexer": "ipython3",
   "version": "3.11.4"
  }
 },
 "nbformat": 4,
 "nbformat_minor": 5
}
