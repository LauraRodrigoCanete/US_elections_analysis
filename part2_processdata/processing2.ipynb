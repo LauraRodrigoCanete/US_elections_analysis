{
 "cells": [
  {
   "cell_type": "markdown",
   "id": "20dd9426-3a7a-4d15-a995-93efafa83f4f",
   "metadata": {},
   "source": [
    "## Program: continue processing tweet data"
   ]
  },
  {
   "cell_type": "code",
   "execution_count": 4,
   "id": "d563a60b",
   "metadata": {},
   "outputs": [],
   "source": [
    "import glob\n",
    "import numpy as np\n",
    "import pandas as pd\n",
    "import polars as pl\n",
    "from datetime import datetime\n",
    "import transformers\n",
    "from transformers import pipeline\n",
    "import datasets\n",
    "import torch\n",
    "import os\n",
    "import pickle\n",
    "from collections import Counter\n",
    "import re\n",
    "import emoji\n",
    "import json"
   ]
  },
  {
   "cell_type": "code",
   "execution_count": 2,
   "id": "56e257f4",
   "metadata": {},
   "outputs": [
    {
     "name": "stdout",
     "output_type": "stream",
     "text": [
      "(46915, 3)\n",
      "(23716, 3)\n",
      "(12333, 3)\n"
     ]
    }
   ],
   "source": [
    "dir_16 = \"../fase2_procesadodatos/tweets16_filtered.csv\"\n",
    "dir_20 = \"../fase2_procesadodatos/tweets20_filtered.csv\"\n",
    "dir_24 = \"../fase2_procesadodatos/tweets24_filtered.csv\"\n",
    "\n",
    "df_16_filtered = pd.read_csv(dir_16)\n",
    "df_16_filtered['Date'] = pd.to_datetime(df_16_filtered['Date'])\n",
    "print(df_16_filtered.shape)\n",
    "\n",
    "df_20_filtered = pd.read_csv(dir_20)\n",
    "df_20_filtered['Date'] = pd.to_datetime(df_20_filtered['Date'])\n",
    "print(df_20_filtered.shape)\n",
    "\n",
    "df_24_filtered = pd.read_csv(dir_24)\n",
    "df_24_filtered['Date'] = pd.to_datetime(df_24_filtered['Date'])\n",
    "print(df_24_filtered.shape)"
   ]
  },
  {
   "cell_type": "code",
   "execution_count": 3,
   "id": "f09d0954",
   "metadata": {},
   "outputs": [],
   "source": [
    "def filter_candidates(df, contain = None, not_contain = None):\n",
    "    if contain is not None:\n",
    "        filter_contain = df.Tweet.str.contains(contain[0], case=False)\n",
    "        for keyword in contain[1:]:\n",
    "            filter_contain |= df.Tweet.str.contains(keyword, case=False) # OR (we want at least one of the keywords)\n",
    "        df = df[filter_contain].copy()\n",
    "        df.reset_index(drop=True, inplace=True)\n",
    "\n",
    "    if not_contain is not None:\n",
    "        filter_not_contain = ~df.Tweet.str.contains(not_contain[0], case=False)\n",
    "        for keyword in not_contain[1:]:\n",
    "            filter_not_contain &= ~df.Tweet.str.contains(keyword, case=False) # AND (we want none of the keywords)\n",
    "        df = df[filter_not_contain].copy()\n",
    "        df.reset_index(drop=True, inplace=True)\n",
    "\n",
    "    return df"
   ]
  },
  {
   "cell_type": "code",
   "execution_count": 4,
   "id": "6fac8ff4",
   "metadata": {},
   "outputs": [],
   "source": [
    "df_16_dem = filter_candidates(df_16_filtered, contain = ['@HillaryClinton'], not_contain = ['@realDonaldTrump',\"Donald\", \"Trump\"])\n",
    "df_16_rep = filter_candidates(df_16_filtered, contain = ['@realDonaldTrump'], not_contain = ['@HillaryClinton',\"Hillary\",\"Clinton\"])\n",
    "\n",
    "df_20_dem = filter_candidates(df_20_filtered, contain = ['@JoeBiden'], not_contain = ['@realDonaldTrump',\"Donald\", \"Trump\"])\n",
    "df_20_rep = filter_candidates(df_20_filtered, contain = ['@realDonaldTrump'], not_contain = ['@JoeBiden',\"Joe\",\"Biden\"])\n",
    "\n",
    "df_24_dem = filter_candidates(df_24_filtered, contain =['@KamalaHarris','@JoeBiden'], not_contain = ['@realDonaldTrump',\"Donald\", \"Trump\"])\n",
    "df_24_rep = filter_candidates(df_24_filtered, contain =['@realDonaldTrump'], not_contain = ['@KamalaHarris','@JoeBiden',\"Kamala\",\"Harris\",\"Joe\",\"Biden\"])"
   ]
  },
  {
   "cell_type": "code",
   "execution_count": 5,
   "id": "54835e67",
   "metadata": {},
   "outputs": [],
   "source": [
    "# Intersection of users\n",
    "\n",
    "# Get unique users from each dataframe\n",
    "users_16 = set(df_16_dem[\"User\"].unique()) | set(df_16_rep[\"User\"].unique())\n",
    "users_20 = set(df_20_dem[\"User\"].unique()) | set(df_20_rep[\"User\"].unique())\n",
    "users_24 = set(df_24_dem[\"User\"].unique()) | set(df_24_rep[\"User\"].unique())\n",
    "\n",
    "# Calculate the intersection of users\n",
    "user_intersection = users_24 & users_16 & users_20\n",
    "\n",
    "# we filter the dataframes\n",
    "df_16_dem = df_16_dem[df_16_dem[\"User\"].isin(user_intersection)].reset_index(drop=True)\n",
    "df_16_rep = df_16_rep[df_16_rep[\"User\"].isin(user_intersection)].reset_index(drop=True)\n",
    "df_20_dem = df_20_dem[df_20_dem[\"User\"].isin(user_intersection)].reset_index(drop=True)\n",
    "df_20_rep = df_20_rep[df_20_rep[\"User\"].isin(user_intersection)].reset_index(drop=True)\n",
    "df_24_dem = df_24_dem[df_24_dem[\"User\"].isin(user_intersection)].reset_index(drop=True)\n",
    "df_24_rep = df_24_rep[df_24_rep[\"User\"].isin(user_intersection)].reset_index(drop=True)"
   ]
  },
  {
   "cell_type": "code",
   "execution_count": 6,
   "id": "636b4468",
   "metadata": {},
   "outputs": [
    {
     "data": {
      "text/plain": [
       "((15102, 3), (20987, 3), (4940, 3), (13166, 3), (5878, 3), (3537, 3))"
      ]
     },
     "execution_count": 6,
     "metadata": {},
     "output_type": "execute_result"
    }
   ],
   "source": [
    "df_16_dem.shape, df_16_rep.shape, df_20_dem.shape, df_20_rep.shape, df_24_dem.shape, df_24_rep.shape"
   ]
  },
  {
   "cell_type": "code",
   "execution_count": null,
   "id": "63e70d92",
   "metadata": {},
   "outputs": [],
   "source": [
    "# we save them to csv \n",
    "df_16_dem.to_csv(\"tweets/tweets16_dem.csv\", index=False)\n",
    "df_16_rep.to_csv(\"tweets/tweets16_rep.csv\", index=False)\n",
    "df_20_dem.to_csv(\"tweets/tweets20_dem.csv\", index=False)\n",
    "df_20_rep.to_csv(\"tweets/tweets20_rep.csv\", index=False)\n",
    "df_24_dem.to_csv(\"tweets/tweets24_dem.csv\", index=False)\n",
    "df_24_rep.to_csv(\"tweets/tweets24_rep.csv\", index=False)"
   ]
  }
 ],
 "metadata": {
  "kernelspec": {
   "display_name": "Python 3",
   "language": "python",
   "name": "python3"
  },
  "language_info": {
   "codemirror_mode": {
    "name": "ipython",
    "version": 3
   },
   "file_extension": ".py",
   "mimetype": "text/x-python",
   "name": "python",
   "nbconvert_exporter": "python",
   "pygments_lexer": "ipython3",
   "version": "3.11.4"
  }
 },
 "nbformat": 4,
 "nbformat_minor": 5
}
