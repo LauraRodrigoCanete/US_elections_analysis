{
 "cells": [
  {
   "cell_type": "code",
   "execution_count": null,
   "metadata": {
    "colab": {
     "base_uri": "https://localhost:8080/"
    },
    "id": "AbmLSr6Q-xRb",
    "outputId": "52e0c0c7-e218-49df-dbd5-e446675627f5"
   },
   "outputs": [],
   "source": [
    "modules = [\"selenium\",\"chromedriver_autoinstaller\",\"pymongo\",\"pandas\",\"seaborn\",\"bs4\",\"numpy\"]\n",
    "\n",
    "import sys\n",
    "import os.path\n",
    "from subprocess import check_call\n",
    "import importlib\n",
    "import os\n",
    "\n",
    "def instala(modules):\n",
    "    print(\"Instalando módulos\")\n",
    "    for m in modules:\n",
    "        # para el import quitamos [...] y ==...\n",
    "        p = m.find(\"[\")\n",
    "        mi = m if p==-1 else m[:p]\n",
    "        p = mi.find(\"==\")\n",
    "        mi = mi if p==-1 else mi[:p]\n",
    "        torch_loader = importlib.util.find_spec(mi)\n",
    "        if torch_loader is not None:\n",
    "            print(m,\" encontrado\")\n",
    "        else:\n",
    "            print(m,\" No encontrado, instalando...\",end=\"\")  \n",
    "            try:        \n",
    "                r = check_call([sys.executable, \"-m\", \"pip\", \"install\", \"--user\",  m])\n",
    "                print(\"¡hecho!\")\n",
    "            except:\n",
    "                print(\"¡Problema al instalar \",m,\"! ¿seguro que el módulo existe?\",sep=\"\")\n",
    "\n",
    "    print(\"¡Terminado!\")\n",
    "\n",
    "instala(modules)  "
   ]
  },
  {
   "cell_type": "code",
   "execution_count": null,
   "metadata": {},
   "outputs": [],
   "source": [
    "import numpy as np\n",
    "import matplotlib.pyplot as plt\n",
    "import seaborn as sns\n",
    "import pandas as pd\n",
    "import random\n",
    "from datetime import datetime\n",
    "import time"
   ]
  },
  {
   "cell_type": "code",
   "execution_count": null,
   "metadata": {},
   "outputs": [],
   "source": [
    "from pymongo import MongoClient\n",
    "from pymongo.errors import BulkWriteError\n",
    "import sys\n",
    "\n",
    "def connection(dbname=\"test\",cs = \"mongodb://localhost:27017\"):\n",
    "    # Create a connection using MongoClient. You can import MongoClient or use pymongo.MongoClient\n",
    "    client = MongoClient(cs)\n",
    "    try:\n",
    "        s = client.server_info() # si hay error tendremos una excepción\n",
    "        print(\"Conectado a MongoDB, versión\",s[\"version\"])\n",
    "        db = client[dbname]\n",
    "    except:\n",
    "        e = sys.exc_info()[0]\n",
    "        print (\"connection error\")\n",
    "        print(e)\n",
    "        db=None\n",
    "    return db\n",
    "\n",
    "url = \"mongodb+srv://example.mongodb.net/\"\n",
    "db = connection(dbname=\"example\",cs=url)"
   ]
  },
  {
   "cell_type": "code",
   "execution_count": null,
   "metadata": {},
   "outputs": [],
   "source": [
    "import uuid \n",
    "unique_id = uuid.getnode() # Obtiene el número MAC de la máquina \n",
    "\n",
    "# Fetch any username from the collection\n",
    "document = db.scraped_data.find_one({}, {\"User\": 1, \"_id\": 0})  # Get a single document with the 'User' field\n",
    "if not document or 'User' not in document:\n",
    "    raise ValueError(\"No documents found or 'User' field missing in the collection\")\n",
    "\n",
    "username = document['User']  # Extract the username\n",
    "username = str(username).replace(\" \", \"_\").replace(\"/\", \"_\").replace(\"\\\\\", \"_\")  # Sanitize username for folder\n",
    "\n",
    "# Construct the output file path\n",
    "output_file = f\"scraped_data/2024_{username}_{unique_id}.csv\"\n",
    "\n",
    "# Construct the mongoexport command\n",
    "mongoexport_command = (\n",
    "    f\"mongoexport --uri={url} \"\n",
    "    f\"--db=tfg \"\n",
    "    f\"--collection=scraped_data \"\n",
    "    f\"--type=csv \"\n",
    "    f\"--fields=User,Tweet,Date \"\n",
    "    f\"--out={output_file}\"\n",
    ")\n",
    "\n",
    "# Print and run the command\n",
    "print(f\"Running command: {mongoexport_command}\")\n",
    "os.system(mongoexport_command)"
   ]
  },
  {
   "cell_type": "code",
   "execution_count": null,
   "metadata": {},
   "outputs": [],
   "source": [
    "# TO DOWNLOAD JUST THE USERNAMES\n",
    "import os\n",
    "\n",
    "# Define output file\n",
    "output_file = \"processed_usernames.csv\"\n",
    "\n",
    "# Construct the mongoexport command\n",
    "mongoexport_command = (\n",
    "    f\"mongoexport --uri={url} \"\n",
    "    f\"--db=example \"\n",
    "    f\"--collection=processed2024 \"  # Ensure this is the correct collection name\n",
    "    f\"--type=csv \"\n",
    "    f\"--fields=_id \"  # Export only the _id field\n",
    "    f\"--out={output_file}\"\n",
    ")\n",
    "\n",
    "# Print and execute the command\n",
    "print(f\"Running command: {mongoexport_command}\")\n",
    "os.system(mongoexport_command)"
   ]
  },
  {
   "cell_type": "code",
   "execution_count": null,
   "metadata": {},
   "outputs": [],
   "source": [
    "db.scraped_data.drop()"
   ]
  }
 ],
 "metadata": {
  "colab": {
   "provenance": []
  },
  "kernelspec": {
   "display_name": "Python 3 (ipykernel)",
   "language": "python",
   "name": "python3"
  },
  "language_info": {
   "codemirror_mode": {
    "name": "ipython",
    "version": 3
   },
   "file_extension": ".py",
   "mimetype": "text/x-python",
   "name": "python",
   "nbconvert_exporter": "python",
   "pygments_lexer": "ipython3",
   "version": "3.11.5"
  }
 },
 "nbformat": 4,
 "nbformat_minor": 4
}
