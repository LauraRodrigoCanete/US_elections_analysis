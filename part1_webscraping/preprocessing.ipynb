{
 "cells": [
  {
   "cell_type": "markdown",
   "id": "20dd9426-3a7a-4d15-a995-93efafa83f4f",
   "metadata": {},
   "source": [
    "## Program: preprocess tweet data"
   ]
  },
  {
   "cell_type": "code",
   "execution_count": 1,
   "id": "d563a60b",
   "metadata": {},
   "outputs": [],
   "source": [
    "import glob\n",
    "import pandas as pd\n",
    "import polars as pl\n",
    "from datetime import datetime"
   ]
  },
  {
   "cell_type": "code",
   "execution_count": 2,
   "id": "79002ef5",
   "metadata": {},
   "outputs": [],
   "source": [
    "# Read and combine CSV files using Pandas\n",
    "def read_and_combine_files(folder_path):\n",
    "    # Find all .csv files in the specified folder\n",
    "    csv_files = glob.glob(f'{folder_path}/*.csv')\n",
    "    \n",
    "    # List to hold dataframes\n",
    "    dataframes = []\n",
    "    \n",
    "    # Read each CSV file and append to the list\n",
    "    for file in csv_files:\n",
    "        df = pd.read_csv(file, usecols=['User', 'Tweet', 'Date'])\n",
    "        dataframes.append(df)\n",
    "    \n",
    "    # Concatenate all dataframes into one\n",
    "    combined_df = pd.concat(dataframes, ignore_index=True)\n",
    "\n",
    "    combined_df['Date'] = combined_df['Date'].str.split('T', n=1).str[0]   # keep only \"YYYY-MM-DD\", ignore times and timezones\n",
    "\n",
    "    # Convert 'Date' column to datetime\n",
    "    combined_df['Date'] = pd.to_datetime(combined_df['Date'], format='%Y-%m-%d', errors='coerce')\n",
    "    \n",
    "    return combined_df"
   ]
  },
  {
   "cell_type": "code",
   "execution_count": null,
   "id": "960ab601",
   "metadata": {},
   "outputs": [],
   "source": [
    "combined_raw_table = read_and_combine_files(\"scraped_data\")\n",
    "all_processed_usernames = pd.read_csv(\"processed_usernames.csv\")"
   ]
  },
  {
   "cell_type": "code",
   "execution_count": 4,
   "id": "cb81c255",
   "metadata": {},
   "outputs": [],
   "source": [
    "combined_raw_table.to_csv(f\"combined_table_users_tweets.csv\", index=False, encoding=\"utf-8\")"
   ]
  }
 ],
 "metadata": {
  "kernelspec": {
   "display_name": "Python 3",
   "language": "python",
   "name": "python3"
  },
  "language_info": {
   "codemirror_mode": {
    "name": "ipython",
    "version": 3
   },
   "file_extension": ".py",
   "mimetype": "text/x-python",
   "name": "python",
   "nbconvert_exporter": "python",
   "pygments_lexer": "ipython3",
   "version": "3.11.4"
  }
 },
 "nbformat": 4,
 "nbformat_minor": 5
}
