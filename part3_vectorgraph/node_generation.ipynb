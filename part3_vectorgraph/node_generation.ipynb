{
 "cells": [
  {
   "cell_type": "markdown",
   "id": "cc3869ba-583a-48aa-bbb1-1f916dc8b3f2",
   "metadata": {},
   "source": [
    "Convierte la opinión por año y partido en opinión por partido"
   ]
  },
  {
   "cell_type": "code",
   "execution_count": null,
   "id": "318eef38-7363-4e55-80a7-0fe82df3692b",
   "metadata": {},
   "outputs": [],
   "source": [
    "\n",
    "import pandas as pd\n",
    "\n",
    "path = \"../data/\"\n",
    "\n",
    "# fichero de opiniones\n",
    "url = \"example\"\n",
    "\n",
    "# Cargar la hoja de cálculo en un DataFrame\n",
    "df = pd.read_csv(url)\n",
    "\n",
    "nuevo = []\n",
    "for y in [16,20,24]:\n",
    "    df_y = df[df.year==y]\n",
    "    for u in df_y.User:\n",
    "        df_yu = df_y[df_y.User==u].reset_index(drop=True)\n",
    "        if len(df_yu)>2 or (len(df_yu)==2 and df_yu.loc[0,\"party\"] == df_yu.loc[1,\"party\"]):\n",
    "            print(\"Error!\",u)\n",
    "            print(df_yu)\n",
    "        elif len(df_yu)==2:\n",
    "            if df_yu.loc[0,\"opinion\"] * df_yu.loc[1,\"opinion\"] == -1 :\n",
    "                df_yu.index= df_yu.party\n",
    "                row = df_yu.loc[\"dem\"]\n",
    "                nuevo.append([row[0], row[1],row[3],row[4]])\n",
    "            elif  df_yu.loc[0,\"opinion\"] ==0 and df_yu.loc[1,\"opinion\"] == 0 :                \n",
    "                row = df_yu.loc[0]\n",
    "                nuevo.append([row[0], row[1],row[3],row[4]])\n",
    "            else:\n",
    "                print(df_yu.loc[0].values, df_yu.loc[1].values)\n",
    "        else:\n",
    "            row = df_yu.iloc[0]\n",
    "            if row[2]==\"dem\":\n",
    "                nuevo.append([row[0], row[1],int(row[3]),row[4]])\n",
    "            else:                \n",
    "                nuevo.append([row[0], row[1],-1*int(row[3]),row[4]])\n",
    "            \n",
    "df = pd.DataFrame(nuevo,columns=[\"User\", \"year\", \"opinion\", \"Autor\"])\n",
    "df = df.drop_duplicates().reset_index(drop=True)\n",
    "df.to_csv(path+\"opinion_y.csv\",index=False)"
   ]
  }
 ],
 "metadata": {
  "kernelspec": {
   "display_name": "Python 3 (ipykernel)",
   "language": "python",
   "name": "python3"
  },
  "language_info": {
   "codemirror_mode": {
    "name": "ipython",
    "version": 3
   },
   "file_extension": ".py",
   "mimetype": "text/x-python",
   "name": "python",
   "nbconvert_exporter": "python",
   "pygments_lexer": "ipython3",
   "version": "3.12.7"
  }
 },
 "nbformat": 4,
 "nbformat_minor": 5
}
