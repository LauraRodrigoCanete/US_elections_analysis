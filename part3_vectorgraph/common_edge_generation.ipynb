{
 "cells": [
  {
   "cell_type": "markdown",
   "id": "92453f50-5710-45f3-887d-f4fa2e1d445b",
   "metadata": {},
   "source": [
    "## Generates edges of graphs for users with common tweets that allows using \"contagion\" techniques to transmit the opinion from one to another"
   ]
  },
  {
   "cell_type": "code",
   "execution_count": null,
   "id": "65649401-7b3d-4269-9c52-7c3be6576417",
   "metadata": {},
   "outputs": [],
   "source": [
    "modules = [\"pymongo\", \"pprintpp\", \"rich\",\"tqdm\"]\n",
    "\n",
    "import sys\n",
    "import os.path\n",
    "from subprocess import check_call\n",
    "import importlib\n",
    "import os\n",
    "\n",
    "def instala(modules):\n",
    "  print(\"Instalando módulos\")\n",
    "  for m in modules:\n",
    "      # para el import quitamos [...] y ==...\n",
    "      p = m.find(\"[\")\n",
    "      mi = m if p==-1 else m[:p]\n",
    "      p = mi.find(\"==\")\n",
    "      mi = mi if p==-1 else mi[:p]\n",
    "\n",
    "      torch_loader = importlib.util.find_spec(mi)\n",
    "      if torch_loader is not None:\n",
    "          print(m,\" encontrado\")\n",
    "      else:\n",
    "          print(m,\" No encontrado, instalando...\",end=\"\")  \n",
    "          try:        \n",
    "            r = check_call([sys.executable, \"-m\", \"pip\", \"install\", \"--user\", m])\n",
    "            print(\"¡hecho!\")\n",
    "          except:\n",
    "            print(\"¡Problema al instalar \",m,\"! ¿seguro que el módulo existe?\",sep=\"\")\n",
    "              \n",
    "  print(\"¡Terminado!\")\n",
    "\n",
    "instala(modules) "
   ]
  },
  {
   "cell_type": "code",
   "execution_count": null,
   "id": "9aa7663f-f587-4608-984d-68ae79aa60e5",
   "metadata": {},
   "outputs": [],
   "source": [
    "import pandas as pd\n",
    "user_file = \"usa162024.csv\"\n",
    "\n",
    "path =\"../data/\"\n",
    "import pandas as pd\n",
    "df_user = pd.read_csv(user_file)\n",
    "\n",
    "df_user[[\"User\", \"Tweet\", \"Date\", \"year\", \"party\"]].to_csv(\"usa162024.csv\",index=False)\n",
    "df_user"
   ]
  },
  {
   "cell_type": "code",
   "execution_count": null,
   "id": "ebc621b6-f327-4549-9b98-c240b74c14a9",
   "metadata": {},
   "outputs": [],
   "source": [
    "# change if needed, now it is done for a local server\n",
    "url_servidor = 'mongodb://127.0.0.1:27017/'\n",
    "\n",
    "# if it is in Atlas, use this line instead\n",
    "#url_servidor= \"mongodb+srv://example.mongodb.net/?retryWrites=true&w=majority\"\n",
    "\n",
    "\n",
    "from pymongo import MongoClient\n",
    "\n",
    "# this is the connection to the server\n",
    "client = MongoClient(url_servidor)\n",
    "\n",
    "# code to check if the connection is ok\n",
    "try:\n",
    "    s = client.server_info() # if there is an error, it will raise an exception\n",
    "    db = client.grafo\n",
    "    print(\"Conectado a MongoDB, versión\",s[\"version\"])\n",
    "except:\n",
    "    print (\"Error de conexión ¿está arrancado el servidor?\")"
   ]
  },
  {
   "cell_type": "code",
   "execution_count": null,
   "id": "3ea27d0f-8261-4bb1-b506-aa093d7f507a",
   "metadata": {},
   "outputs": [],
   "source": [
    "!mongoimport -d grafo -c user --headerline --type csv --drop --file \"usa162024.csv\""
   ]
  },
  {
   "cell_type": "code",
   "execution_count": null,
   "id": "4f143fc4-96fa-479f-991e-6f0f9ee62c26",
   "metadata": {},
   "outputs": [],
   "source": [
    "from rich import print_json\n",
    "from json import dumps\n",
    "\n",
    "# shows the content of a cursor in JSON format\n",
    "def muestra(cursor):\n",
    "    # Convert to JSON and print it\n",
    "    i = 0\n",
    "    for doc in cursor:\n",
    "        i+=1\n",
    "        print_json(dumps(doc, indent=4, default=str))\n",
    "    return i\n",
    "\n",
    "muestra(db.user.find().limit(10))"
   ]
  },
  {
   "cell_type": "code",
   "execution_count": null,
   "id": "a52fb8f7-68d5-4dbe-8ab0-dd8e716c6137",
   "metadata": {},
   "outputs": [],
   "source": [
    "db.user.drop_indexes()\n",
    "db.aristas.drop_indexes()\n",
    "db.aristas.drop()\n",
    "\n",
    "resp = db.user.create_index([ (\"Tweet\",1)])\n",
    "resp = db.aristas.create_index([ (\"User1\",1),(\"User2\",1),(\"year\",1) ],unique=True)\n",
    "print (\"index response:\", resp)"
   ]
  },
  {
   "cell_type": "code",
   "execution_count": null,
   "id": "81192465-95c9-4cc0-9d90-cacdfadc02bf",
   "metadata": {},
   "outputs": [],
   "source": [
    "from tqdm import tqdm\n",
    "tweets = db.user.distinct(\"Tweet\")\n",
    "aristas = []\n",
    "for t in tqdm(tweets):\n",
    "    df_t = pd.DataFrame(db.user.find({\"Tweet\":t},{\"_id\":0,\"User\":1,\"year\":1,\"party\":1}))\n",
    "    for _,row1 in df_t .iterrows():\n",
    "        for _,row2 in df_t .iterrows():\n",
    "            if row1.User>row2.User and row1.year == row2.year and row1.party == row2.party :                                \n",
    "                db.aristas.update_one({\"User1\":row1.User,\"User2\":row2.User, \"year\":row1.year},\n",
    "                                      {\"$setOnInsert\":{\"Tweet\":t},\"$inc\":{\"n\":1}},upsert=True)\n"
   ]
  },
  {
   "cell_type": "code",
   "execution_count": null,
   "id": "a1a306a6-ab45-4a52-890f-6051d3e897f6",
   "metadata": {},
   "outputs": [],
   "source": [
    "!mongoexport -d grafo  -c aristas --type csv --fields \"User1\",\"User2\",\"year\",\"Tweet\",\"n\" --out \"../data/edges_common.csv\""
   ]
  },
  {
   "cell_type": "code",
   "execution_count": null,
   "id": "0c42c547-9e5c-47a8-8ef3-3ad3b03ba754",
   "metadata": {},
   "outputs": [],
   "source": [
    "data = \"../data/\"\n",
    "df_edges = pd.read_csv(data + \"edges_common.csv\")\n",
    "df_edges"
   ]
  },
  {
   "cell_type": "markdown",
   "id": "69afcc3f-8076-406e-86e3-5f312f14b620",
   "metadata": {},
   "source": [
    "#### Done without using MONGODB:"
   ]
  },
  {
   "cell_type": "code",
   "execution_count": null,
   "id": "da068068-e1fe-49cf-bcaf-01ac4a9063f9",
   "metadata": {},
   "outputs": [],
   "source": [
    "from tqdm import tqdm\n",
    "users = df_user.User.unique()\n",
    "aristas = []\n",
    "for y in [16,20,24]:\n",
    "    for p in [\"dem\",\"rep\"]:\n",
    "        df_user_yp = df_user[(df_user.year==y) & (df_user.party==p)][[\"User\", \"Tweet\", \"Date\", \"party\"]]\n",
    "        print(y,p)\n",
    "        for u1 in tqdm(users):\n",
    "            df_u1 = df_user_yp[df_user_yp.User == u1]\n",
    "            if len(df_u1)>0:\n",
    "                for u2 in (users):\n",
    "                    if u2>u1:\n",
    "                        df_u2 = df_user_yp[df_user_yp.User == u2]\n",
    "                        if len(df_u2)>0:\n",
    "                            mezcla = df_u1.merge(df_u2,left_on=\"Tweet\",right_on=\"Tweet\")\n",
    "                            if len(mezcla)>0:\n",
    "                                aristas.append((u1,u2,mezcla.iloc[0][\"Tweet\"]))\n",
    "                    \n",
    "            "
   ]
  }
 ],
 "metadata": {
  "kernelspec": {
   "display_name": "Python 3 (ipykernel)",
   "language": "python",
   "name": "python3"
  },
  "language_info": {
   "codemirror_mode": {
    "name": "ipython",
    "version": 3
   },
   "file_extension": ".py",
   "mimetype": "text/x-python",
   "name": "python",
   "nbconvert_exporter": "python",
   "pygments_lexer": "ipython3",
   "version": "3.12.7"
  }
 },
 "nbformat": 4,
 "nbformat_minor": 5
}
