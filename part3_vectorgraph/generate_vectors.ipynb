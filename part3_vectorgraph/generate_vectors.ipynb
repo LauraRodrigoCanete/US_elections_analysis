{
 "cells": [
  {
   "cell_type": "markdown",
   "id": "269fcd87-2fc0-46fc-bebf-dc46c9f93328",
   "metadata": {},
   "source": [
    "### Search with Vectors\n",
    "##### Idea: convert all tweets of each user into a vector and search for similarities\n",
    "##### Note: the same user in different years is considered different"
   ]
  },
  {
   "cell_type": "markdown",
   "id": "841c93d9-c106-4169-a633-4bc4b23ebf01",
   "metadata": {},
   "source": [
    "### Installation of libraries\n",
    "##### It is advisable to do Kernel+restart if you have installed.\n",
    "##### Note: it may take a while (only the first time)"
   ]
  },
  {
   "cell_type": "code",
   "execution_count": null,
   "id": "d23237ab",
   "metadata": {},
   "outputs": [],
   "source": [
    "modules = [\"pymongo\", \"pymongo[srv]\",\"pprintpp\",\"rich\",\"tf_keras\", \"sentence-transformers\", \"ipywidgets\"]\n",
    "\n",
    "import sys\n",
    "import os.path\n",
    "from subprocess import check_call\n",
    "import importlib\n",
    "import os\n",
    "\n",
    "def instala(modules):\n",
    "  print(\"Instalando módulos\")\n",
    "  for m in modules:\n",
    "      # para el import quitamos [...] y ==...\n",
    "      p = m.find(\"[\")\n",
    "      mi = m if p==-1 else m[:p]\n",
    "      p = mi.find(\"==\")\n",
    "      mi = mi if p==-1 else mi[:p]\n",
    "\n",
    "      torch_loader = importlib.util.find_spec(mi)\n",
    "      if torch_loader is not None:\n",
    "          print(m,\" encontrado\")\n",
    "      else:\n",
    "          print(m,\" No encontrado, instalando...\",end=\"\")  \n",
    "          try:        \n",
    "            r = check_call([sys.executable, \"-m\", \"pip\", \"install\", \"--user\", m])\n",
    "            print(\"¡hecho!\")\n",
    "          except:\n",
    "            print(\"¡Problema al instalar \",m,\"! ¿seguro que el módulo existe?\",sep=\"\")\n",
    "              \n",
    "  print(\"¡Terminado!\")\n",
    "\n",
    "instala(modules) "
   ]
  },
  {
   "cell_type": "markdown",
   "id": "3e1f5689-2941-4309-a63a-06a5bf13fd3f",
   "metadata": {},
   "source": [
    "Data preparation"
   ]
  },
  {
   "cell_type": "code",
   "execution_count": null,
   "id": "d33ac03a-dbf2-431e-a98c-cea81d2ae88d",
   "metadata": {},
   "outputs": [],
   "source": [
    "datos = \"usa162024.csv\"\n",
    "import pandas as pd\n",
    "df = pd.read_csv(datos)\n",
    "df[\"userYP\"] = df[\"User\"]+\"_\"+df.year.astype(str)+df[\"party\"] # bertoldo becomes bertoldo_16, bertoldo_20, bertoldo_24\n",
    "# Concatenate tweets per user\n",
    "df_agg = df.groupby('userYP', as_index=False).agg({'Tweet': '.'.join})\n",
    "df_agg"
   ]
  },
  {
   "cell_type": "markdown",
   "id": "d675c554-b796-4c14-bc19-ac2cb77b94db",
   "metadata": {},
   "source": [
    "We prepare the transformer that will convert the texts into vectors"
   ]
  },
  {
   "cell_type": "code",
   "execution_count": null,
   "id": "c415447d-f63d-40d0-85e4-584cc8aee31f",
   "metadata": {},
   "outputs": [],
   "source": [
    "from sentence_transformers import SentenceTransformer\n",
    "#modelo = SentenceTransformer('all-MiniLM-L6-v2')\n",
    "modelo = SentenceTransformer('multi-qa-mpnet-base-dot-v1')\n",
    "    "
   ]
  },
  {
   "cell_type": "code",
   "execution_count": null,
   "id": "2a7b71db-3250-483d-b488-80e2a359e750",
   "metadata": {},
   "outputs": [],
   "source": [
    "from tqdm import tqdm \n",
    "\n",
    "\n",
    "cods = []\n",
    "ids = []\n",
    "\n",
    "for _,row in tqdm(df_agg.iterrows()):\n",
    "    cod = modelo.encode(row[\"Tweet\"]).tolist()\n",
    "    cods.append(cod)\n",
    "    ids.append(row[\"userYP\"])"
   ]
  },
  {
   "cell_type": "code",
   "execution_count": null,
   "id": "f0369246-1d85-4c5d-af3d-55dbf2e3a263",
   "metadata": {},
   "outputs": [],
   "source": [
    "df_encoding = pd.DataFrame({\"User\":ids,\"embedding\":cods})\n",
    "path = \"../data/\"\n",
    "df_encoding.to_csv(path+\"encoding_user_768.csv\",index=False)"
   ]
  },
  {
   "cell_type": "code",
   "execution_count": null,
   "id": "cc2e399e-b1b8-4377-8de3-4b57e8f861a0",
   "metadata": {},
   "outputs": [],
   "source": [
    "df_encoding"
   ]
  }
 ],
 "metadata": {
  "kernelspec": {
   "display_name": "Python 3 (ipykernel)",
   "language": "python",
   "name": "python3"
  },
  "language_info": {
   "codemirror_mode": {
    "name": "ipython",
    "version": 3
   },
   "file_extension": ".py",
   "mimetype": "text/x-python",
   "name": "python",
   "nbconvert_exporter": "python",
   "pygments_lexer": "ipython3",
   "version": "3.12.7"
  }
 },
 "nbformat": 4,
 "nbformat_minor": 5
}
