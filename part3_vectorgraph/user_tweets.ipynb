{
 "cells": [
  {
   "cell_type": "markdown",
   "id": "74026cd9-d644-4cfc-a7e1-82c3f607178f",
   "metadata": {},
   "source": [
    "# user_tweets"
   ]
  },
  {
   "cell_type": "code",
   "execution_count": null,
   "id": "ac94aa89-3a24-46bd-a9ad-5d18bd6102c0",
   "metadata": {},
   "outputs": [],
   "source": [
    "modules = [\"flair\",\"spacy\",\"spacytextblob\"]\n",
    "\n",
    "import sys\n",
    "import os.path\n",
    "from subprocess import check_call\n",
    "import importlib\n",
    "import os\n",
    "\n",
    "def instala(modules):\n",
    "  print(\"Instalando módulos\")\n",
    "  for m in modules:\n",
    "      p = m.find(\"[\")\n",
    "      mi = m if p==-1 else m[:p]\n",
    "      p = mi.find(\"==\")\n",
    "      mi = mi if p==-1 else mi[:p]\n",
    "\n",
    "      torch_loader = importlib.util.find_spec(mi)\n",
    "      if torch_loader is not None:\n",
    "          print(m,\" encontrado\")\n",
    "      else:\n",
    "          print(m,\" No encontrado, instalando...\",end=\"\")  \n",
    "          try:        \n",
    "            r = check_call([sys.executable, \"-m\", \"pip\", \"install\", \"--user\", m])\n",
    "            print(\"¡hecho!\")\n",
    "          except:\n",
    "            print(\"¡Problema al instalar \",m,\"! ¿seguro que el módulo existe?\",sep=\"\")\n",
    "              \n",
    "  print(\"¡Terminado!\")\n",
    "\n",
    "instala(modules) "
   ]
  },
  {
   "cell_type": "code",
   "execution_count": null,
   "id": "e9d23a4f-c5d1-401e-b9e2-cb40aec6cb10",
   "metadata": {},
   "outputs": [],
   "source": [
    "pipelines = ['en_core_web_lg']\n",
    "def instala_pipelines(pipelines):\n",
    "  print(\"Instalando pipelines de Spacy\")\n",
    "  for p in pipelines:\n",
    "      print(\"Instalando \",p)\n",
    "      try:\n",
    "        r = check_call([sys.executable, \"-m\", \"spacy\", \"download\", p])\n",
    "        print(\"¡Hecho!\")\n",
    "      except:\n",
    "        print(\"¡Problema al instalar \",p,\"! ¿seguro que el pipeline existe?\",sep=\"\")\n",
    "\n",
    "  print(\"¡Terminado!\")\n",
    "\n",
    "instala_pipelines(pipelines)"
   ]
  },
  {
   "cell_type": "code",
   "execution_count": null,
   "id": "2ac88e57-c517-474e-b218-3a45cb5d6d48",
   "metadata": {},
   "outputs": [],
   "source": [
    "import pandas as pd\n",
    "users_data_file = \"users_common_data.csv\"\n",
    "user_file = \"usa162024.csv\"\n",
    "edges_file = \"aristas_p_y.csv\"\n",
    "\n",
    "path =\"../data/\"\n",
    "import pandas as pd\n",
    "df_user = pd.read_csv(user_file)\n",
    "\n",
    "df_edges = pd.read_csv(edges_file)\n",
    "# couple sorted alpahabetically, so that it is repeated\n",
    "df_edges['pair_key'] = df_edges.apply(lambda row: tuple(sorted([row['user1'], row['user2']])), axis=1)\n",
    "# eliminate duplicates from the sorted couple\n",
    "df_edges = df_edges.drop_duplicates(subset='pair_key').drop(columns='pair_key').reset_index(drop=True)\n",
    "df_edges.columns = [\"user1\", \t\"user2\", \t\"weight\", \t\"party\", \"year\"]\n",
    "df_edges.weight  = df_edges.weight.apply(lambda x: round(x,3))\n",
    "\n",
    "df_user_data = pd.read_csv(users_data_file)\n",
    "\n",
    "url_opiniones = \"opiniones.xlsx\"\n",
    "\n",
    "# load the spreadsheet in a pandas dataframe\n",
    "df_opiniones = pd.read_csv(url_opiniones)"
   ]
  },
  {
   "cell_type": "code",
   "execution_count": null,
   "id": "54faa196-a20b-45e1-9ab9-71db6bce698d",
   "metadata": {},
   "outputs": [],
   "source": [
    "df_user.head(3)"
   ]
  },
  {
   "cell_type": "code",
   "execution_count": null,
   "id": "6eb5f451-e117-48bf-912d-991b01728bf0",
   "metadata": {},
   "outputs": [],
   "source": [
    "df_user_data "
   ]
  },
  {
   "cell_type": "code",
   "execution_count": null,
   "id": "1ff07ba8-bb11-4ff2-a06b-0571d6e6631b",
   "metadata": {},
   "outputs": [],
   "source": [
    "df_edges"
   ]
  },
  {
   "cell_type": "code",
   "execution_count": null,
   "id": "910e414d-4545-4447-8ab2-f7655909416e",
   "metadata": {},
   "outputs": [],
   "source": [
    "from flair.models import TextClassifier\n",
    "from flair.data import Sentence\n",
    "classifier = TextClassifier.load('en-sentiment')\n",
    "\n",
    "import spacy\n",
    "from spacytextblob.spacytextblob import SpacyTextBlob\n",
    "nlp = spacy.load('en_core_web_lg')\n",
    "nlp.add_pipe('spacytextblob')\n",
    "\n",
    "def sentiment(s):\n",
    "\n",
    "  # flair\n",
    "  text = Sentence(s)\n",
    "\n",
    "  classifier.predict(text)\n",
    "  value = text.labels[0].to_dict()\n",
    "  #print(s)\n",
    "  if value[\"value\"]==\"NEGATIVE\":\n",
    "      vflair = -1\n",
    "  elif value[\"value\"]==\"POSITIVE\":\n",
    "      vflair = +1\n",
    "  else :\n",
    "      vflair = 0 # no sé si esto pasa\n",
    "  cflair = value[\"confidence\"]\n",
    "\n",
    "  # textblob  \n",
    "  return vflair,cflair #, vblob,cblob"
   ]
  },
  {
   "cell_type": "code",
   "execution_count": null,
   "id": "3940da3a-7581-4172-a748-4b3b16339f45",
   "metadata": {},
   "outputs": [],
   "source": [
    "from IPython.display import display\n",
    "def display_user(user,year,party):\n",
    "    filter_user = (df_user.User == user) & (df_user.year==year) & (df_user.party==party)\n",
    "    filter_edges = (df_edges.user1 == user) & (df_edges.year==year) & (df_edges.party==party)\n",
    "    df_edges_filtered = df_edges[filter_edges]\n",
    "    df_user_filtered = df_user[filter_user]\n",
    "    \n",
    "    df = df_user_filtered['Tweet'].apply(lambda tweet: pd.Series(sentiment(tweet)))\n",
    "    df.columns = ['vflair', 'cflair'] #, 'vblob', 'cblob']\n",
    "    print(\"=\"*50)\n",
    "    print(user,year,party,end=\" \")\n",
    "    print(f\"{len(df_edges_filtered)} connections, {len(df_user_filtered)} tweets\")\n",
    "    if len(df_user_filtered)>0:\n",
    "        for tweet in df_user_filtered.Tweet:\n",
    "            print(tweet)\n",
    "            print(\"-\"*50)\n",
    "        #display(df)\n",
    "        display(df.describe())\n",
    "    return\n",
    "\n",
    "def display_user_both(user,year):\n",
    "    display_user(user,year,\"dem\")\n",
    "    display_user(user,year,\"rep\")\n",
    "    return\n",
    "\n",
    "def display_user_all(user):\n",
    "    for year in [16,20,24]:\n",
    "        for party in [\"dem\",\"rep\"]:\n",
    "            display_user(user,year,party)\n",
    "    return"
   ]
  },
  {
   "cell_type": "code",
   "execution_count": null,
   "id": "f2a77e12-e17c-461c-9f6e-d423abfb0843",
   "metadata": {},
   "outputs": [],
   "source": [
    "cols = ['User', 'year', 'party']\n",
    "df_counts = df_user.groupby(cols).size().reset_index(name='reps')\n",
    "print(df_counts.shape)\n",
    "df = pd.merge(df_counts, df_opiniones, on=cols, how='outer', indicator=True)\\\n",
    "       .query(\"_merge != 'both'\")\\\n",
    "       .drop('_merge', axis=1)\\\n",
    "       .reset_index(drop=True)\\\n",
    "       .sort_values(by=[\"reps\"], ascending=False)\n",
    "df[(df.year==24) & (df.party==\"dem\")].head(10)"
   ]
  },
  {
   "cell_type": "code",
   "execution_count": null,
   "id": "330120bd-577a-47d0-ac21-87ea60c1eb4b",
   "metadata": {},
   "outputs": [],
   "source": [
    "df_nedges = df_edges.groupby([\"user1\",\"party\",\"year\"]).size().reset_index(name='reps')\n",
    "df_nedges.columns = [\"User\", \"party\", \"year\", \"reps\"]\n",
    "df = pd.merge(df_nedges, df_opiniones, on=cols, how='outer', indicator=True)\\\n",
    "       .query(\"_merge != 'both'\")\\\n",
    "       .drop('_merge', axis=1)\\\n",
    "       .reset_index(drop=True)\\\n",
    "       .sort_values(by=[\"reps\"], ascending=False)\n",
    "df[(df.year==24) & (df.party==\"dem\")].head(10)\n"
   ]
  },
  {
   "cell_type": "markdown",
   "id": "448a168b-ab73-4daa-8ca3-47c1ae87c39d",
   "metadata": {},
   "source": [
    "Prueba con flair"
   ]
  },
  {
   "cell_type": "code",
   "execution_count": null,
   "id": "4157188c-1608-4782-adcd-ea3ebd2e02ec",
   "metadata": {},
   "outputs": [],
   "source": [
    "df_counts = df_user.groupby(['User', 'year', 'party']).size().reset_index(name='reps')\n",
    "(df_counts.reps>=5).sum()"
   ]
  },
  {
   "cell_type": "code",
   "execution_count": null,
   "id": "a41fe2f7-dc24-40dd-9b6e-e2203d99c016",
   "metadata": {},
   "outputs": [],
   "source": [
    "df_activos = df_counts[(df_counts.reps>10)]\n",
    "df_activos"
   ]
  },
  {
   "cell_type": "code",
   "execution_count": null,
   "id": "ae0f038d-b846-4ef8-bc16-be656c994772",
   "metadata": {},
   "outputs": [],
   "source": [
    "df_activos[\"opinion\"] = 0\n",
    "for p, row in df_activos.iterrows():\n",
    "    filtro = (df_user.User == row[\"User\"]) & (df_user.year == row[\"year\"]) & (df_user.party==row[\"party\"])\n",
    "    df_user_filtered = df_user[filtro]\n",
    "    df = df_user_filtered['Tweet'].apply(lambda tweet: pd.Series(sentiment(tweet)))\n",
    "    df.columns = ['vflair', 'cflair']\n",
    "    desc = df.describe()\n",
    "    op  = abs(desc[\"vflair\"][\"mean\"])\n",
    "    c = abs(desc[\"cflair\"][\"mean\"])\n",
    "    if op>=0.5 and c>=0.8:\n",
    "        print(\".\",end=\"\")\n",
    "        df_activos.loc[p,\"opinion\"] =  1 if desc[\"vflair\"][\"mean\"]>0 else -1\n",
    "\n",
    "    "
   ]
  },
  {
   "cell_type": "code",
   "execution_count": null,
   "id": "38ea30fa-9f0c-4766-ba23-50876502398e",
   "metadata": {},
   "outputs": [],
   "source": [
    "(df_activos.opinion !=0).sum()"
   ]
  },
  {
   "cell_type": "code",
   "execution_count": null,
   "id": "f9775d39-5ff2-4aa5-910d-9024d43e046c",
   "metadata": {},
   "outputs": [],
   "source": [
    "df_flair = df_activos[df_activos.opinion !=0].reset_index(drop=True)"
   ]
  },
  {
   "cell_type": "code",
   "execution_count": null,
   "id": "cb4847ae-4abf-43fc-b37f-5d908eb28537",
   "metadata": {},
   "outputs": [],
   "source": [
    "df_flair[df_flair.reps>10]"
   ]
  },
  {
   "cell_type": "code",
   "execution_count": null,
   "id": "b50623a1-cd5b-438c-830b-e04902b3fa6a",
   "metadata": {},
   "outputs": [],
   "source": [
    "path = \"../data/\"\n",
    "df_flair.to_csv(path+\"flair.csv\",index=False)"
   ]
  },
  {
   "cell_type": "code",
   "execution_count": null,
   "id": "6969c0d3-3a03-4967-91cc-51d87194cf05",
   "metadata": {},
   "outputs": [],
   "source": [
    "from IPython.display import display\n",
    "def display_user(user,year,party):\n",
    "    filter_user = (df_user.User == user) & (df_user.year==year) & (df_user.party==party)\n",
    "    filter_edges = (df_edges.user1 == user) & (df_edges.year==year) & (df_edges.party==party)\n",
    "    df_edges_filtered = df_edges[filter_edges]\n",
    "    df_user_filtered = df_user[filter_user]\n",
    "    \n",
    "    \n",
    "    print(\"=\"*50)\n",
    "    print(user,year,party)\n",
    "    print(f\"{len(df_edges_filtered)} connections, {len(df_user_filtered)} tweets\")\n",
    "    for tweet in df_user_filtered.Tweet:\n",
    "        print(tweet)\n",
    "    return"
   ]
  },
  {
   "cell_type": "code",
   "execution_count": null,
   "id": "867fa766-db4a-4460-9902-593c5be04689",
   "metadata": {
    "collapsed": true,
    "jupyter": {
     "outputs_hidden": true
    }
   },
   "outputs": [],
   "source": [
    "#sample = df_flair.sample(30)\n",
    "df_opinion = pd.read_csv(path+\"opiniones.csv\")\n",
    "for _,row in sample.iterrows():\n",
    "    user,year,party = row[\"User\"],row[\"year\"],row[\"party\"]\n",
    "    # solo si es nuevo\n",
    "    if len(df_opinion[(df_opinion.User==user) & (df_opinion.year==year) & (df_opinion.party==party)])==0:\n",
    "        display_user(row[\"User\"],row[\"year\"],row[\"party\"])\n"
   ]
  },
  {
   "cell_type": "code",
   "execution_count": null,
   "id": "09a72d63-81db-48ed-b98d-5f664880f763",
   "metadata": {},
   "outputs": [],
   "source": [
    "sample\n"
   ]
  },
  {
   "cell_type": "code",
   "execution_count": null,
   "id": "79250af5-6bf3-485f-923c-01cd741dc946",
   "metadata": {},
   "outputs": [],
   "source": [
    "# inconsistencias?\n",
    "df_opinion = pd.read_csv(path+\"opiniones.csv\")\n",
    "df_op_check = df_opinion.groupby(['User', 'year', 'party']).size().reset_index(name='reps')\n",
    "df_op_check[df_op_check.reps>1]"
   ]
  },
  {
   "cell_type": "code",
   "execution_count": null,
   "id": "85edc4f3-4fda-45bb-857c-a388d5e53d2b",
   "metadata": {},
   "outputs": [],
   "source": [
    "comb = df_flair.merge(df_opinion,left_on=['User', 'year', 'party'], right_on=['User', 'year', 'party'],suffixes=('_flair', '_manual'))\n",
    "comb[comb[\"opinion_flair\"] != comb[\"opinion_manual\"]]"
   ]
  },
  {
   "cell_type": "code",
   "execution_count": null,
   "id": "8c9b4267-13cf-42ca-b187-a7b4d1df0183",
   "metadata": {},
   "outputs": [],
   "source": [
    "df_flair"
   ]
  },
  {
   "cell_type": "code",
   "execution_count": null,
   "id": "4f24f673-45ea-4de6-abc8-fe49e0861d06",
   "metadata": {},
   "outputs": [],
   "source": [
    "df_flair[\"Autor\"] = \"flair\"\n",
    "df_flair = df_flair[[\"User\",\"year\",\"party\",\"opinion\",\"Autor\"]]\n",
    "df_flair"
   ]
  },
  {
   "cell_type": "code",
   "execution_count": null,
   "id": "9c562759-fd8b-4e3b-a49c-97330718709d",
   "metadata": {},
   "outputs": [],
   "source": [
    "cols_clave = ['User', 'year', 'party']\n",
    "\n",
    "df_flair_filtrado = df_flair.merge(\n",
    "    df_opinion[cols_clave],\n",
    "    on=cols_clave,\n",
    "    how='left',\n",
    "    indicator=True\n",
    ").query('_merge == \"left_only\"').drop(columns=['_merge'])\n",
    "\n",
    "\n",
    "df_flair_filtrado"
   ]
  },
  {
   "cell_type": "code",
   "execution_count": null,
   "id": "ace912e7-63c2-489c-a588-c597bb4c2f00",
   "metadata": {},
   "outputs": [],
   "source": [
    "df_opinion = pd.concat([df_opinion, df_flair],ignore_index=True)"
   ]
  },
  {
   "cell_type": "code",
   "execution_count": null,
   "id": "55f6da8d-f0eb-4418-a3eb-ab53ce10558b",
   "metadata": {},
   "outputs": [],
   "source": [
    "df_opinion.to_csv(path+\"opiniones.csv\",index=False)"
   ]
  }
 ],
 "metadata": {
  "kernelspec": {
   "display_name": "Python 3 (ipykernel)",
   "language": "python",
   "name": "python3"
  },
  "language_info": {
   "codemirror_mode": {
    "name": "ipython",
    "version": 3
   },
   "file_extension": ".py",
   "mimetype": "text/x-python",
   "name": "python",
   "nbconvert_exporter": "python",
   "pygments_lexer": "ipython3",
   "version": "3.12.7"
  }
 },
 "nbformat": 4,
 "nbformat_minor": 5
}
