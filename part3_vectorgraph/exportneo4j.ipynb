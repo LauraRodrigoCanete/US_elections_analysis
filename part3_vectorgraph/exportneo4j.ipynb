{
 "cells": [
  {
   "cell_type": "code",
   "execution_count": null,
   "id": "59a509b1-dbf6-4129-94cf-a36797d2f226",
   "metadata": {},
   "outputs": [],
   "source": [
    "modules = [\"neo4j\", \"pprintpp\", \"rich\",\"tqdm\"]\n",
    "\n",
    "import sys\n",
    "import os.path\n",
    "from subprocess import check_call\n",
    "import importlib\n",
    "import os\n",
    "\n",
    "def instala(modules):\n",
    "  print(\"Instalando módulos\")\n",
    "  for m in modules:\n",
    "      p = m.find(\"[\")\n",
    "      mi = m if p==-1 else m[:p]\n",
    "      p = mi.find(\"==\")\n",
    "      mi = mi if p==-1 else mi[:p]\n",
    "\n",
    "      torch_loader = importlib.util.find_spec(mi)\n",
    "      if torch_loader is not None:\n",
    "          print(m,\" encontrado\")\n",
    "      else:\n",
    "          print(m,\" No encontrado, instalando...\",end=\"\")  \n",
    "          try:        \n",
    "            r = check_call([sys.executable, \"-m\", \"pip\", \"install\", \"--user\", m])\n",
    "            print(\"¡hecho!\")\n",
    "          except:\n",
    "            print(\"¡Problema al instalar \",m,\"! ¿seguro que el módulo existe?\",sep=\"\")\n",
    "              \n",
    "  print(\"¡Terminado!\")\n",
    "\n",
    "instala(modules) "
   ]
  },
  {
   "cell_type": "code",
   "execution_count": null,
   "id": "9741e9be-2c1c-4f71-8c4b-136522283376",
   "metadata": {},
   "outputs": [],
   "source": [
    "from neo4j import GraphDatabase\n",
    "import csv\n",
    "\n",
    "uri = \"bolt://localhost:example\"\n",
    "user = \"neo4j\"\n",
    "password = \"password\"\n",
    "\n",
    "driver = GraphDatabase.driver(uri, auth=(user, password))\n",
    "\n",
    "query = \"\"\"\n",
    "MATCH (n)\n",
    "WHERE 'DEM' IN labels(n) OR 'REP' IN labels(n)\n",
    "RETURN\n",
    "  n.user_id AS userid,\n",
    "  n.screen AS screen,\n",
    "  n.created_at AS created_at,\n",
    "  n.common_degree AS common_degree,\n",
    "  n.verified AS verified,\n",
    "  n.followers AS followers,\n",
    "  n.following AS following,\n",
    "  n.nTweets AS nTweets,\n",
    "  CASE \n",
    "    WHEN n.contagio is not null THEN 'contagio'\n",
    "    WHEN n.manual is not null THEN 'manual'\n",
    "    ELSE null\n",
    "  END AS sent,\n",
    "  CASE \n",
    "    WHEN 'DEM' IN labels(n) THEN 'DEM'\n",
    "    WHEN 'REP' IN labels(n) THEN 'REP'\n",
    "  END AS tipo\n",
    "\"\"\"\n",
    "\n",
    "def name(path,year):\n",
    "    return path+\"neo4j_nodos_\"+str(year)+\".csv\"\n",
    "path = \"../data/\"\n",
    "year =  24\n",
    "with driver.session() as session:\n",
    "    result = session.run(query)\n",
    "    file = name(path,year)\n",
    "    with open(file, \"w\", newline=\"\", encoding=\"utf-8\") as f:\n",
    "        writer = csv.writer(f)\n",
    "        writer.writerow(result.keys())  # headers\n",
    "        for row in result:\n",
    "            writer.writerow(row.values())\n",
    "\n",
    "driver.close()"
   ]
  },
  {
   "cell_type": "code",
   "execution_count": null,
   "id": "f2ce6406-f835-426c-9917-cc7f6cedb59f",
   "metadata": {},
   "outputs": [],
   "source": [
    "import pandas as pd\n",
    "df = pd.read_csv(file)\n",
    "df"
   ]
  },
  {
   "cell_type": "markdown",
   "id": "f036d102",
   "metadata": {},
   "source": [
    "Load and process files"
   ]
  },
  {
   "cell_type": "code",
   "execution_count": null,
   "id": "eabad6be-bc7b-47bb-9f70-decf42258325",
   "metadata": {},
   "outputs": [],
   "source": [
    "import pandas as pd\n",
    "def name(path,year):\n",
    "    return path+\"neo4j_nodos_\"+str(year)+\".csv\"\n",
    "path = \"../data/\"\n",
    "years = [16,20,24]\n",
    "for i,year in enumerate(years):\n",
    "    file = name(path,year)\n",
    "    df = pd.read_csv(file)\n",
    "    if i==0:\n",
    "        union = df\n",
    "    else:\n",
    "        union = union.merge(df,left_on=\"userid\",right_on=\"userid\",suffixes=(\"\",\"_\"+str(year)))\n",
    "    print(year,len(union))\n",
    "    "
   ]
  },
  {
   "cell_type": "code",
   "execution_count": null,
   "id": "27865c8b-c17f-440e-9e38-acc9d025f1f0",
   "metadata": {},
   "outputs": [],
   "source": [
    "union"
   ]
  },
  {
   "cell_type": "code",
   "execution_count": null,
   "id": "c472620b-8a17-4145-b6ab-1fc48145c04f",
   "metadata": {},
   "outputs": [],
   "source": [
    "cambio = (union.tipo != union.tipo_24) | (union.tipo_20 != union.tipo_24) | (union.tipo != union.tipo_20)\n",
    "union[cambio][[\"screen\",\"tipo\",\"tipo_20\",\"tipo_24\"]]"
   ]
  },
  {
   "cell_type": "code",
   "execution_count": null,
   "id": "f8d5f53d-7d6c-4475-8eb6-de5799130792",
   "metadata": {},
   "outputs": [],
   "source": [
    "union[cambio][[\"screen\",\"tipo\",\"tipo_20\",\"tipo_24\"]].screen.values"
   ]
  }
 ],
 "metadata": {
  "kernelspec": {
   "display_name": "Python 3 (ipykernel)",
   "language": "python",
   "name": "python3"
  },
  "language_info": {
   "codemirror_mode": {
    "name": "ipython",
    "version": 3
   },
   "file_extension": ".py",
   "mimetype": "text/x-python",
   "name": "python",
   "nbconvert_exporter": "python",
   "pygments_lexer": "ipython3",
   "version": "3.12.7"
  }
 },
 "nbformat": 4,
 "nbformat_minor": 5
}
