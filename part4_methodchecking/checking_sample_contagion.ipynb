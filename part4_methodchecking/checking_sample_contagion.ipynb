{
  "cells": [
    {
      "cell_type": "markdown",
      "id": "447ca827-2c5a-46df-a992-c68a666bb1f4",
      "metadata": {
        "id": "447ca827-2c5a-46df-a992-c68a666bb1f4"
      },
      "source": [
        "Compares the manual clasification of users with the one obtained from the label propagation processes to check the performance"
      ]
    },
    {
      "cell_type": "code",
      "execution_count": null,
      "id": "4c413a10-c611-4abf-9178-bd97aaca91a2",
      "metadata": {
        "colab": {
          "base_uri": "https://localhost:8080/",
          "height": 423
        },
        "id": "4c413a10-c611-4abf-9178-bd97aaca91a2",
        "outputId": "610c3a97-aa8e-4016-a0ba-25b0c321fd36"
      },
      "outputs": [],
      "source": [
        "import pandas as pd\n",
        "\n",
        "# nodos\n",
        "path = \"../data/\"\n",
        "file_nodos16 = \"neo4j_nodos_16.csv\"\n",
        "file_nodos20 = \"neo4j_nodos_20.csv\"\n",
        "file_nodos24 = \"neo4j_nodos_24.csv\"\n",
        "\n",
        "years = [16,20,24]\n",
        "nodos = [file_nodos16,file_nodos20,file_nodos24]\n",
        "for p,f in enumerate(nodos):\n",
        "    df = pd.read_csv(f)\n",
        "    df[\"year\"] = years[p]\n",
        "    df_nodos = df if p==0 else pd.concat([df_nodos,df])\n",
        "df_nodos.rename(columns={'tipo': 'party_contagio'}, inplace=True)\n",
        "\n",
        "\n",
        "# fichero clasificado manualmente\n",
        "\n",
        "file_manual = \"muestra_contagio_completada.csv\"\n",
        "\n",
        "df_manual = pd.read_csv(file_manual)\n",
        "df_manual.party = df_manual.party.str.upper()\n",
        "df_manual.rename(columns={'party': 'party_manual'}, inplace=True)\n",
        "\n",
        "df_manual"
      ]
    },
    {
      "cell_type": "code",
      "execution_count": null,
      "id": "704fd2c3-82ab-4224-b6ed-694d8008b810",
      "metadata": {
        "colab": {
          "base_uri": "https://localhost:8080/",
          "height": 423
        },
        "id": "704fd2c3-82ab-4224-b6ed-694d8008b810",
        "outputId": "2b5fb7fc-460d-4aef-f368-190179c4c292"
      },
      "outputs": [],
      "source": [
        "df_nodos"
      ]
    },
    {
      "cell_type": "code",
      "execution_count": null,
      "id": "7034d7a6-535e-44a5-a8dc-86f05f172612",
      "metadata": {
        "colab": {
          "base_uri": "https://localhost:8080/",
          "height": 423
        },
        "id": "7034d7a6-535e-44a5-a8dc-86f05f172612",
        "outputId": "e45e3363-75ba-4d3b-f520-9f3e79a02179"
      },
      "outputs": [],
      "source": [
        "df_both = df_nodos.merge(df_manual, on=[\"screen\",\"year\"], how=\"inner\")\n",
        "df_both"
      ]
    },
    {
      "cell_type": "code",
      "execution_count": null,
      "id": "faff4e3b-7028-404f-9a6e-73903924aa23",
      "metadata": {
        "id": "faff4e3b-7028-404f-9a6e-73903924aa23"
      },
      "outputs": [],
      "source": [
        "from sklearn.metrics import classification_report\n",
        "from sklearn.metrics import make_scorer,f1_score, accuracy_score, recall_score,cohen_kappa_score\n",
        "from sklearn.metrics import confusion_matrix, ConfusionMatrixDisplay\n",
        "import matplotlib.pyplot as plt\n",
        "\n",
        "def show_results(y_real,y_pred):\n",
        "    print(\"Accuracy \",round(accuracy_score(y_real,y_pred),4),\\\n",
        "              \"\\nRecall \",round(recall_score(y_real,y_pred),4),\\\n",
        "              \"\\nKappa \", round(cohen_kappa_score(y_real,y_pred),4)\n",
        "         )\n",
        "    print('\\nClassification Report: \\n', classification_report(y_real, y_pred))\n",
        "\n",
        "    k =  cohen_kappa_score(y_real,y_pred)\n",
        "    print(\"kappa \",k)\n",
        "    cm = confusion_matrix(y_real, y_pred)\n",
        "    disp = ConfusionMatrixDisplay(confusion_matrix=cm)\n",
        "    disp.plot()\n",
        "    plt.show()\n"
      ]
    },
    {
      "cell_type": "code",
      "execution_count": null,
      "id": "16f39f96-b126-41d6-9b5b-fb6161ae5db5",
      "metadata": {
        "colab": {
          "base_uri": "https://localhost:8080/",
          "height": 770
        },
        "id": "16f39f96-b126-41d6-9b5b-fb6161ae5db5",
        "outputId": "fa8e919d-a328-4d50-a22b-2bc717b0c56e"
      },
      "outputs": [],
      "source": [
        "show_results(df_both.party_manual.replace({\"REP\":0,\"DEM\":1}),df_both.party_contagio.replace({\"REP\":0,\"DEM\":1}))"
      ]
    },
    {
      "cell_type": "code",
      "execution_count": null,
      "id": "4fce73fd-33a3-4773-a9b8-b6770c13dad1",
      "metadata": {
        "colab": {
          "base_uri": "https://localhost:8080/",
          "height": 551
        },
        "id": "4fce73fd-33a3-4773-a9b8-b6770c13dad1",
        "outputId": "68abb7a3-fb26-4583-ff8f-b2901b27f043"
      },
      "outputs": [],
      "source": [
        "df_discrepancias = df_both[df_both.party_manual != df_both.party_contagio][[\"year\",\"screen\",\"contagio\",\"party_manual\",\"party_contagio\"]]\n",
        "df_discrepancias"
      ]
    },
    {
      "cell_type": "code",
      "execution_count": null,
      "id": "c2bc38f0-8ea7-4862-885f-31df1f664754",
      "metadata": {
        "colab": {
          "base_uri": "https://localhost:8080/",
          "height": 178
        },
        "id": "c2bc38f0-8ea7-4862-885f-31df1f664754",
        "outputId": "703c9c97-f00d-4cd0-da4f-08745a8f6466"
      },
      "outputs": [],
      "source": [
        "df_discrepancias.contagio.value_counts(normalize=True)"
      ]
    },
    {
      "cell_type": "code",
      "execution_count": null,
      "id": "da20b79f-eb53-4b0b-bf00-85c8aaaf3ffa",
      "metadata": {
        "colab": {
          "base_uri": "https://localhost:8080/",
          "height": 209
        },
        "id": "da20b79f-eb53-4b0b-bf00-85c8aaaf3ffa",
        "outputId": "64f54cf1-9503-4413-8461-e7d566ba0a15"
      },
      "outputs": [],
      "source": [
        "df_both.contagio.value_counts(normalize=True)"
      ]
    },
    {
      "cell_type": "code",
      "execution_count": null,
      "id": "58c00835-226a-48fd-8e5e-437796de9108",
      "metadata": {
        "colab": {
          "base_uri": "https://localhost:8080/",
          "height": 770
        },
        "id": "58c00835-226a-48fd-8e5e-437796de9108",
        "outputId": "82cb11cc-a504-4a65-bc3a-7f11f7da50c2"
      },
      "outputs": [],
      "source": [
        "filtro = df_both.contagio==\"COMMON\"\n",
        "show_results(df_both[filtro].party_manual.replace({\"REP\":0,\"DEM\":1}),df_both[filtro].party_contagio.replace({\"REP\":0,\"DEM\":1}))"
      ]
    },
    {
      "cell_type": "code",
      "execution_count": null,
      "id": "c295e235-5dbb-4a56-9bf5-dba6e301890c",
      "metadata": {
        "colab": {
          "base_uri": "https://localhost:8080/",
          "height": 776
        },
        "id": "c295e235-5dbb-4a56-9bf5-dba6e301890c",
        "outputId": "e96a8dd8-0bbe-47a0-9cc1-2760262b6a61"
      },
      "outputs": [],
      "source": [
        "filtro = df_both.contagio==\"SIMILAR\"\n",
        "show_results(df_both[filtro].party_manual.replace({\"REP\":0,\"DEM\":1}),df_both[filtro].party_contagio.replace({\"REP\":0,\"DEM\":1}))"
      ]
    },
    {
      "cell_type": "code",
      "execution_count": null,
      "id": "aa4a44c1-6c03-4578-9499-f7bca6f96723",
      "metadata": {
        "colab": {
          "base_uri": "https://localhost:8080/",
          "height": 770
        },
        "id": "aa4a44c1-6c03-4578-9499-f7bca6f96723",
        "outputId": "11213d85-7963-4804-a7d1-251be457f6f6"
      },
      "outputs": [],
      "source": [
        "filtro = df_both.contagio==\"majority\"\n",
        "show_results(df_both[filtro].party_manual.replace({\"REP\":0,\"DEM\":1}),df_both[filtro].party_contagio.replace({\"REP\":0,\"DEM\":1}))"
      ]
    },
    {
      "cell_type": "markdown",
      "id": "OtFZfqphXNOb",
      "metadata": {
        "id": "OtFZfqphXNOb"
      },
      "source": [
        "## STATISTICS"
      ]
    },
    {
      "cell_type": "code",
      "execution_count": null,
      "id": "T_GxbRbSXJv-",
      "metadata": {
        "colab": {
          "base_uri": "https://localhost:8080/",
          "height": 423
        },
        "id": "T_GxbRbSXJv-",
        "outputId": "1011a7c7-b5dc-4cbc-a7e6-09ef42d2e880"
      },
      "outputs": [],
      "source": [
        "user_file = \"usa162024.csv\"\n",
        "import pandas as pd\n",
        "df_user = pd.read_csv(user_file).rename(columns={\"User\":\"screen\"})\n",
        "df_user"
      ]
    },
    {
      "cell_type": "code",
      "execution_count": null,
      "id": "7PFTDlznalzM",
      "metadata": {
        "colab": {
          "base_uri": "https://localhost:8080/",
          "height": 423
        },
        "id": "7PFTDlznalzM",
        "outputId": "08f7ce83-7df2-4697-a0db-874ac4202f4e"
      },
      "outputs": [],
      "source": [
        "filtro = (df_nodos.sent==\"manual\") | (df_nodos.contagio==\"COMMON\")\n",
        "df = df_nodos[filtro].reset_index(drop=True)\n",
        "df_vota = df.rename(columns={\"party_contagio\":\"vota\"})\n",
        "df_vota"
      ]
    },
    {
      "cell_type": "code",
      "execution_count": null,
      "id": "cd505d49",
      "metadata": {},
      "outputs": [],
      "source": [
        "df_vota.boxplot(column = \"nTweets\", by=\"year\",  figsize=(15,10))"
      ]
    },
    {
      "cell_type": "code",
      "execution_count": null,
      "id": "f8a5b935",
      "metadata": {},
      "outputs": [],
      "source": [
        "df_props = df_user.groupby(['screen', 'year', 'party']).size().unstack(fill_value=0).reset_index()\n",
        "df_props[\"total\"] = df_props[\"dem\"]+df_props[\"rep\"]\n",
        "df_props[\"dem_p\"] = df_props[\"dem\"]/df_props[\"total\"]\n",
        "df_props[\"rep_p\"] = df_props[\"rep\"]/df_props[\"total\"]\n",
        "df_props"
      ]
    },
    {
      "cell_type": "code",
      "execution_count": null,
      "id": "a1d7fb90",
      "metadata": {},
      "outputs": [],
      "source": [
        "df_props_completo = df_props.merge(right=df_vota, on=[\"screen\",\"year\"])\n",
        "df_props_completo"
      ]
    },
    {
      "cell_type": "code",
      "execution_count": null,
      "id": "e94bc398",
      "metadata": {},
      "outputs": [],
      "source": [
        "medias = df_props_completo.groupby(['vota', 'year'])[['dem_p', 'rep_p']].mean().reset_index()\n",
        "medias"
      ]
    },
    {
      "cell_type": "code",
      "execution_count": null,
      "id": "472d5688",
      "metadata": {},
      "outputs": [],
      "source": [
        "import matplotlib.pyplot as plt\n",
        "import pandas as pd\n",
        "\n",
        "# Filter the data to keep vota == \"REP\"\n",
        "medias_rep = medias[medias['vota'] == 'REP']\n",
        "\n",
        "# Create the graph\n",
        "fig, ax = plt.subplots(figsize=(8, 6))\n",
        "\n",
        "# Define the bars position\n",
        "x = medias_rep['year']\n",
        "width = 0.35  # Width of bar\n",
        "\n",
        "# Draw bars\n",
        "ax.bar(x - width/2, medias_rep['dem_p'], width=width, label='dem_p', color=\"blue\")\n",
        "ax.bar(x + width/2, medias_rep['rep_p'], width=width, label='rep_p', color=\"red\")\n",
        "\n",
        "# Add labels and title\n",
        "ax.set_xlabel('Año')\n",
        "ax.set_ylabel('Proporción media')\n",
        "ax.set_title('Proporción media de tweets sobre DEM y REP (votantes REP)')\n",
        "ax.set_xticks(x)\n",
        "ax.legend()\n",
        "plt.grid()\n",
        "\n",
        "plt.show()"
      ]
    },
    {
      "cell_type": "code",
      "execution_count": null,
      "id": "e98e1c19",
      "metadata": {},
      "outputs": [],
      "source": [
        "import matplotlib.pyplot as plt\n",
        "import pandas as pd\n",
        "\n",
        "medias_rep = medias[medias['vota'] == 'DEM']\n",
        "\n",
        "fig, ax = plt.subplots(figsize=(8, 6))\n",
        "\n",
        "x = medias_rep['year']\n",
        "width = 0.35\n",
        "\n",
        "ax.bar(x - width/2, medias_rep['dem_p'], width=width, label='dem_p', color=\"blue\")\n",
        "ax.bar(x + width/2, medias_rep['rep_p'], width=width, label='rep_p', color=\"red\")\n",
        "\n",
        "ax.set_xlabel('Año')\n",
        "ax.set_ylabel('Proporción media')\n",
        "ax.set_title('Proporción media de tweets sobre DEM y REP (votantes DEM)')\n",
        "ax.set_xticks(x)\n",
        "ax.legend()\n",
        "plt.grid()\n",
        "\n",
        "plt.show()"
      ]
    },
    {
      "cell_type": "markdown",
      "id": "c93ebaf0",
      "metadata": {},
      "source": [
        "Same thing but aggregating tweets instead of users"
      ]
    },
    {
      "cell_type": "code",
      "execution_count": null,
      "id": "4b906546",
      "metadata": {},
      "outputs": [],
      "source": [
        "df_all = df_user.merge(right=df_vota, on=[\"screen\",\"year\"])\n",
        "df_all"
      ]
    },
    {
      "cell_type": "code",
      "execution_count": null,
      "id": "YNweAlAslfjj",
      "metadata": {
        "colab": {
          "base_uri": "https://localhost:8080/",
          "height": 423
        },
        "id": "YNweAlAslfjj",
        "outputId": "ffcff6f6-1f48-46c0-a564-6656e246de3a"
      },
      "outputs": [],
      "source": [
        "df_props = df_all.groupby([ 'year', 'vota', 'party']).size().unstack(fill_value=0).reset_index()\n",
        "df_props"
      ]
    },
    {
      "cell_type": "code",
      "execution_count": null,
      "id": "JHcGaHzin1-S",
      "metadata": {
        "colab": {
          "base_uri": "https://localhost:8080/",
          "height": 423
        },
        "id": "JHcGaHzin1-S",
        "outputId": "a8650080-ec65-4a93-d9ca-e7d91569b25a"
      },
      "outputs": [],
      "source": [
        "df_props[\"total\"] = df_props[\"dem\"]+df_props[\"rep\"]\n",
        "df_props[\"dem_p\"] = df_props[\"dem\"]/df_props[\"total\"]\n",
        "df_props[\"rep_p\"] = df_props[\"rep\"]/df_props[\"total\"]\n",
        "df_props"
      ]
    },
    {
      "cell_type": "code",
      "execution_count": null,
      "id": "62tHWNO-tv_r",
      "metadata": {
        "colab": {
          "base_uri": "https://localhost:8080/",
          "height": 565
        },
        "id": "62tHWNO-tv_r",
        "outputId": "d054577e-cddf-4972-bbd8-572b665b2043"
      },
      "outputs": [],
      "source": [
        "import matplotlib.pyplot as plt\n",
        "import pandas as pd\n",
        "\n",
        "medias_rep = df_props[df_props['vota'] == 'REP']\n",
        "\n",
        "fig, ax = plt.subplots(figsize=(8, 6))\n",
        "\n",
        "x = medias_rep['year']\n",
        "width = 0.35 \n",
        "\n",
        "ax.bar(x - width/2, medias_rep['dem_p'], width=width, label='dem_p', color=\"blue\")\n",
        "ax.bar(x + width/2, medias_rep['rep_p'], width=width, label='rep_p', color=\"red\")\n",
        "\n",
        "ax.set_xlabel('Año')\n",
        "ax.set_ylabel('Proporción media')\n",
        "ax.set_title('Proporción media de tweets sobre DEM y REP (votantes REP)')\n",
        "ax.set_xticks(x)\n",
        "ax.legend()\n",
        "plt.grid()\n",
        "\n",
        "plt.show()\n"
      ]
    },
    {
      "cell_type": "code",
      "execution_count": null,
      "id": "CX6onR4AuCXq",
      "metadata": {
        "colab": {
          "base_uri": "https://localhost:8080/",
          "height": 565
        },
        "id": "CX6onR4AuCXq",
        "outputId": "0e050d28-5162-404a-a64c-e4e73a87b627"
      },
      "outputs": [],
      "source": [
        "import matplotlib.pyplot as plt\n",
        "import pandas as pd\n",
        "\n",
        "medias_rep = df_props[df_props['vota'] == 'DEM']\n",
        "\n",
        "fig, ax = plt.subplots(figsize=(8, 6))\n",
        "\n",
        "x = medias_rep['year']\n",
        "width = 0.35\n",
        "\n",
        "ax.bar(x - width/2, medias_rep['dem_p'], width=width, label='dem_p', color=\"blue\")\n",
        "ax.bar(x + width/2, medias_rep['rep_p'], width=width, label='rep_p', color=\"red\")\n",
        "\n",
        "ax.set_xlabel('Año')\n",
        "ax.set_ylabel('Proporción media')\n",
        "ax.set_title('Proporción media de tweets sobre DEM y REP (votantes DEM)')\n",
        "ax.set_xticks(x)\n",
        "ax.legend()\n",
        "plt.grid()\n",
        "\n",
        "plt.show()"
      ]
    },
    {
      "cell_type": "code",
      "execution_count": null,
      "id": "iGYoNVdiuPqi",
      "metadata": {
        "colab": {
          "base_uri": "https://localhost:8080/",
          "height": 423
        },
        "id": "iGYoNVdiuPqi",
        "outputId": "f45ff693-9d1c-413d-f658-c49b82bcbcbd"
      },
      "outputs": [],
      "source": [
        "import pandas as pd\n",
        "import numpy as np\n",
        "from scipy.stats import chi2_contingency\n",
        "\n",
        "rep = df_vota[df_vota.vota==\"REP\"]\n",
        "dem = df_vota[df_vota.vota==\"DEM\"]\n",
        "rep.nTweets.mean(), dem.nTweets.mean()"
      ]
    },
    {
      "cell_type": "code",
      "execution_count": null,
      "id": "bee22b68",
      "metadata": {},
      "outputs": [],
      "source": [
        "rep.nTweets.hist()"
      ]
    },
    {
      "cell_type": "code",
      "execution_count": null,
      "id": "1eb8f3e7",
      "metadata": {},
      "outputs": [],
      "source": [
        "import numpy as np\n",
        "from scipy.stats import mannwhitneyu\n",
        "\n",
        "grupo1 = rep.nTweets\n",
        "grupo2 = dem.nTweets\n",
        "\n",
        "# Mann-Whitney U\n",
        "stat, p = mannwhitneyu(grupo1, grupo2, alternative='greater') #  'two-sided', greater if med(grupo1)>med(grupo2)\n",
        "\n",
        "print(f\"Estadístico U: {stat}\")\n",
        "print(f\"Valor p: {p:.4f}\")"
      ]
    },
    {
      "cell_type": "markdown",
      "id": "f56078da",
      "metadata": {},
      "source": [
        "Conclusion: republicans tweet more"
      ]
    },
    {
      "cell_type": "code",
      "execution_count": null,
      "id": "6d29198b",
      "metadata": {},
      "outputs": [],
      "source": [
        "years = [16,20,24]\n",
        "for y in years:\n",
        "    print(y)\n",
        "    filtror = rep.year == y\n",
        "    filtrod = dem.year == y\n",
        "\n",
        "    grupo1 = rep[filtror].nTweets\n",
        "    grupo2 = dem[filtrod].nTweets\n",
        "\n",
        "    # Mann-Whitney U\n",
        "    stat, p = mannwhitneyu(grupo1, grupo2, alternative='two-sided')\n",
        "    print(f\"Rep: {grupo1.mean()}, dem: {grupo2.mean()}\")\n",
        "    \n",
        "    print(f\"Estadístico U: {stat}\")\n",
        "    print(f\"Valor p: {p:.8f}\")\n",
        "    stat, p = mannwhitneyu(grupo1, grupo2, alternative='greater')\n",
        "\n",
        "    print(f\"Estadístico U: {stat}\")\n",
        "    print(f\"Valor p: {p:.8f}\")\n",
        "    stat, p = mannwhitneyu(grupo1, grupo2, alternative='less')\n",
        "\n",
        "    print(f\"Estadístico U: {stat}\")\n",
        "    print(f\"Valor p: {p:.8f}\")"
      ]
    },
    {
      "cell_type": "code",
      "execution_count": null,
      "id": "d315b4ac",
      "metadata": {},
      "outputs": [],
      "source": [
        "filtror = rep.year == 16\n",
        "filtrod = dem.year == 16\n",
        "\n",
        "import numpy as np\n",
        "from scipy.stats import mannwhitneyu\n",
        "\n",
        "grupo1 = rep[filtror].followers\n",
        "grupo2 = dem[filtrod].followers\n",
        "\n",
        "stat, p = mannwhitneyu(grupo1, grupo2, alternative='less')\n",
        "\n",
        "print(f\"Rep: {grupo1.mean()}, dem: {grupo2.mean()}\")\n",
        "print(f\"Estadístico U: {stat}\")\n",
        "print(f\"Valor p: {p:.6f}\")"
      ]
    },
    {
      "cell_type": "code",
      "execution_count": null,
      "id": "7ce2e262",
      "metadata": {},
      "outputs": [],
      "source": [
        "filtror = rep.year == 16\n",
        "filtrod = dem.year == 16\n",
        "\n",
        "import numpy as np\n",
        "from scipy.stats import mannwhitneyu\n",
        "\n",
        "grupo1 = rep[filtror].verified\n",
        "grupo2 = dem[filtrod].verified\n",
        "\n",
        "stat, p = mannwhitneyu(grupo1, grupo2, alternative='less')\n",
        "\n",
        "print(f\"Rep: {grupo1.mean()}, dem: {grupo2.mean()}\")\n",
        "print(f\"Estadístico U: {stat}\")\n",
        "print(f\"Valor p: {p:.6f}\")"
      ]
    },
    {
      "cell_type": "markdown",
      "id": "6c5bde17",
      "metadata": {},
      "source": [
        "Does the proportion of republicans/democrats per year vary significantly?"
      ]
    },
    {
      "cell_type": "code",
      "execution_count": null,
      "id": "bc74dc72",
      "metadata": {},
      "outputs": [],
      "source": [
        "import pandas as pd\n",
        "from scipy.stats import chi2_contingency\n",
        "\n",
        "contingencia = pd.crosstab(df_vota['year'], df_vota['vota'])\n",
        "\n",
        "print(\"Tabla de contingencia:\")\n",
        "print(contingencia)\n",
        "\n",
        "# chi-square\n",
        "chi2, p, dof, expected = chi2_contingency(contingencia)\n",
        "\n",
        "print(f\"\\nValor chi2 = {chi2:.4f}\")\n",
        "print(f\"Valor p = {p:.4f}\")\n",
        "print(f\"Grados de libertad = {dof}\")"
      ]
    },
    {
      "cell_type": "markdown",
      "id": "e6ff1c4b",
      "metadata": {},
      "source": [
        "Yes, there is a significant variation in the expected values for year and vota, to see in what couple is the variation present we compare the parties for each year"
      ]
    },
    {
      "cell_type": "code",
      "execution_count": null,
      "id": "9809483b",
      "metadata": {},
      "outputs": [],
      "source": [
        "import pandas as pd\n",
        "from statsmodels.stats.proportion import proportions_ztest\n",
        "\n",
        "def compara_proporciones(df, year1, year2, partido='DEM'):\n",
        "    votos1 = df[(df['year'] == year1) & (df['vota'] == partido)].shape[0]\n",
        "    votos2 = df[(df['year'] == year2) & (df['vota'] == partido)].shape[0]\n",
        "    \n",
        "    total1 = df[df['year'] == year1].shape[0]\n",
        "    total2 = df[df['year'] == year2].shape[0]\n",
        "    \n",
        "    counts = [votos1, votos2]\n",
        "    nobs = [total1, total2]\n",
        "    \n",
        "    stat, pval = proportions_ztest(counts, nobs)\n",
        "    \n",
        "    print(f\"Comparando {year1} vs {year2} para {partido}:\")\n",
        "    print(f\"  Proporción {year1}: {votos1}/{total1} = {votos1/total1:.2f}\")\n",
        "    print(f\"  Proporción {year2}: {votos2}/{total2} = {votos2/total2:.2f}\")\n",
        "    print(f\"  z = {stat:.4f}, p = {pval:.4f}\\n\")\n",
        "    return stat, pval\n",
        "\n",
        "compara_proporciones(df_vota, 16, 20,\"DEM\")\n",
        "compara_proporciones(df_vota, 16, 24,\"DEM\")\n",
        "compara_proporciones(df_vota, 20, 24,\"DEM\")\n",
        "compara_proporciones(df_vota, 16, 20,\"REP\")\n",
        "compara_proporciones(df_vota, 16, 24,\"REP\")\n",
        "compara_proporciones(df_vota, 20, 24,\"REP\")"
      ]
    },
    {
      "cell_type": "markdown",
      "id": "053007e5",
      "metadata": {},
      "source": [
        "Another way:"
      ]
    },
    {
      "cell_type": "code",
      "execution_count": null,
      "id": "d8814465",
      "metadata": {},
      "outputs": [],
      "source": [
        "def compara_dem_rep(df, year1, year2):\n",
        "    sub = df[df['year'].isin([year1, year2])]\n",
        "    tabla = pd.crosstab(sub['vota'], sub['year'])\n",
        "    print(f\"\\nComparando {year1} vs {year2}\")\n",
        "    print(tabla)\n",
        "    chi2, p, dof, expected = chi2_contingency(tabla)\n",
        "    print(f\"Chi2 = {chi2:.4f}, p = {p:.4f}\")\n",
        "    return chi2, p\n",
        "\n",
        "compara_dem_rep(df_vota, 16, 20)\n",
        "compara_dem_rep(df_vota, 16, 24)\n",
        "compara_dem_rep(df_vota, 20, 24)"
      ]
    },
    {
      "cell_type": "markdown",
      "id": "2a4ae261",
      "metadata": {},
      "source": [
        "To see the concrete values"
      ]
    },
    {
      "cell_type": "code",
      "execution_count": null,
      "id": "da37d71d",
      "metadata": {},
      "outputs": [],
      "source": [
        "proporciones = df_vota.groupby(['year', 'vota']).size().unstack().fillna(0)\n",
        "proporciones['total'] = proporciones.sum(axis=1)\n",
        "proporciones['DEM_ratio'] = proporciones['DEM'] / proporciones['total']\n",
        "proporciones['REP_ratio'] = proporciones['REP'] / proporciones['total']\n",
        "\n",
        "print(proporciones[['DEM_ratio', 'REP_ratio']])"
      ]
    },
    {
      "cell_type": "markdown",
      "id": "25c1ea67",
      "metadata": {},
      "source": [
        "##### How has the format of tweets evolved over time?\n",
        "- Number of emojis\n",
        "- Number of hashtags\n",
        "- Number of mentions\n",
        "- Number of urls\n",
        "\n",
        "In 2020 and 2016 emojis are codified as real emojis (❤️❤️), in 2024 as text (face with heart-shaped eyes, Purple heart)\n",
        "We will use the emoji library to convert the text emojis to real emojis"
      ]
    },
    {
      "cell_type": "code",
      "execution_count": null,
      "id": "eedc237e",
      "metadata": {},
      "outputs": [],
      "source": [
        "import emoji\n",
        "import re\n",
        "import json\n",
        "\n",
        "# Function to count real emojis in a tweet\n",
        "def count_real_emojis(text):\n",
        "    return len([char for char in text if char in emoji.EMOJI_DATA])\n",
        "\n",
        "# Function to count emoji descriptions (assuming words like \"face with heart-shaped eyes\" appear in text)\n",
        "def count_text_emojis(text):\n",
        "    # We manually look for the text codification that twitter uses for some of the most popular emojis\n",
        "    # We add the rest by using a JSON file\n",
        "    with open(\"emoji-dict.json\", \"r\", encoding=\"utf-8\") as f:\n",
        "        data = json.load(f)\n",
        "\n",
        "    # Extract names\n",
        "    emoji_names = [entry[\"name\"] for entry in data.values()] + [\"Call me hand\",\"Leftwards hand\",\"Rightwards hand\",\"Leftwards pushing hand\",\"Leg\",\"Nail polish\",\"Selfie\",\"Writing hand\",\"Index pointing at the viewer\",\"Reversed hand with middle finger extended\",\"Mechanical arm\",\"Flexed biceps\",\"Rightwards pushing hand\",\"Mechanical leg\",\"Foot\",\"Mouth\",\"Biting lip\",\"Tooth\",\"Tongue\",\"Ear\",\"Ear with hearing aid\",\"Nose\",\"Crown\",\"Red heart\",\"Orange heart\",\"Yellow heart\",\"Green heart\",\"Blue heart\",\"Purple heart\",\"Brown heart\",\"Black heart\",\"White heart\",\"Heart with ribbon\",\"Heart with arrow\",\"Sparkling heart\",\"Growing heart\",\"Beating heart\",\"Revolving hearts\",\"Two hearts\",\"Heart exclamation\",\"Broken heart\",\"Heart on fire\",\"Mending heart\",\"Heart decoration\",\"No entry\",\"Squared sos\",\"Hundred points symbol\",\"Red question mark ornament\",\"White question mark ornament\",\"Musical note\",\"Multiple musical notes\",\"Red circle\",\"Orange circle\",\"Yellow circle\",\"Green circle\",\"Blue circle\",\"Purple circle\",\"Ballot box with check\",\"Brown circle\",\"Black circle\",\"White circle\",\"Red square\",\"Orange square\",\"Yellow square\",\"Green square\",\"Blue square\",\"Purple square\",\"Brown square\",\"Black large square\",\"White large square\",\"Black medium square\",\"Speaker with one sound wave\",\"Speaker with three sound waves\",\"Speaker with cancellation stroke\",\"Cheering megaphone\",\"Public address loudspeaker\",\"Bell\",\"Bell with cancellation stroke\",\"American football\",\"Flag of U.S. Virgin Islands\",\"Earth globe americas\",\"Flag of United States\",\"Grinning face\",\"Smiling face with open mouth\",\"Smiling face with open mouth and smiling eyes\",\"Grinning face with smiling eyes\",\"Smiling face with open mouth and cold sweat\",\"Face with tears of joy\",\"Rolling on the floor laughing\",\"Smiling face with halo\",\"Smiling face with sunglasses\",\"Money-mouth face\",\"Smiling face with open hands\",\"Grimacing face\",\"Pleading face\",\"Face with look of triumph\",\"Pouting face\",\"Face with symbols over mouth\",\"Sleepy face\",\"Crying face\",\"Loudly crying face\",\"Hot face\"]\n",
        "\n",
        "    # Extend the regex pattern\n",
        "    emoji_words_pattern = r'\\b(?:' + '|'.join(emoji_names) + r')\\b'\n",
        "\n",
        "    # Find matches\n",
        "    matches = re.findall(emoji_words_pattern, text, re.IGNORECASE)\n",
        "\n",
        "    return len(matches)"
      ]
    },
    {
      "cell_type": "code",
      "execution_count": null,
      "id": "4afa7e15",
      "metadata": {},
      "outputs": [],
      "source": [
        "df_16_filtered = df_user[df_user.year==16]\n",
        "df_20_filtered = df_user[df_user.year==20]\n",
        "df_24_filtered = df_user[df_user.year==24]\n",
        "\n",
        "# Calculate mean emoji count per tweet for each dataset\n",
        "df_16_filtered[\"emoji_count\"] = df_16_filtered[\"Tweet\"].astype(str).apply(count_real_emojis)\n",
        "df_20_filtered[\"emoji_count\"] = df_20_filtered[\"Tweet\"].astype(str).apply(count_real_emojis)\n",
        "df_24_filtered[\"emoji_count\"] = df_24_filtered[\"Tweet\"].astype(str).apply(count_text_emojis)"
      ]
    },
    {
      "cell_type": "code",
      "execution_count": null,
      "id": "0379f9c9",
      "metadata": {},
      "outputs": [],
      "source": [
        "df_16_filtered[\"emoji_count\"].hist(bins=50)"
      ]
    },
    {
      "cell_type": "code",
      "execution_count": null,
      "id": "4fb2d519",
      "metadata": {},
      "outputs": [],
      "source": [
        "import numpy as np\n",
        "from itertools import combinations\n",
        "\n",
        "# Función para bootstrap del intervalo de confianza\n",
        "def bootstrap_diff_mean(grupo1, grupo2, n_iter=10000, ci=95):\n",
        "    diffs = []\n",
        "    for _ in range(n_iter):\n",
        "        sample1 = np.random.choice(grupo1, size=len(grupo1), replace=True)\n",
        "        sample2 = np.random.choice(grupo2, size=len(grupo2), replace=True)\n",
        "        diffs.append(np.mean(sample1) - np.mean(sample2))\n",
        "    lower = np.percentile(diffs, (100 - ci) / 2)\n",
        "    upper = np.percentile(diffs, 100 - (100 - ci) / 2)\n",
        "    return lower, upper\n",
        "\n",
        "# Tus datos\n",
        "grupo1 = df_16_filtered[\"emoji_count\"].values\n",
        "grupo2 = df_20_filtered[\"emoji_count\"].values\n",
        "grupo3 = df_24_filtered[\"emoji_count\"].values\n",
        "\n",
        "todos = [(16, grupo1), (20, grupo2), (24, grupo3)]\n",
        "\n",
        "# Comparación por pares\n",
        "for ((y1, g1), (y2, g2)) in combinations(todos, 2):\n",
        "    print(f\"{y1} vs {y2}\")\n",
        "    print(f\"Medias: {y1} = {np.mean(g1):.3f}, {y2} = {np.mean(g2):.3f}\")\n",
        "    \n",
        "    ic_low, ic_up = bootstrap_diff_mean(g1, g2)\n",
        "    print(f\"IC 95% (media {y1} - media {y2}): [{ic_low:.3f}, {ic_up:.3f}]\")\n",
        "    \n",
        "    if ic_low > 0:\n",
        "        print(f\"=> La media de {y1} es significativamente mayor que la de {y2}\")\n",
        "    elif ic_up < 0:\n",
        "        print(f\"=> La media de {y1} es significativamente menor que la de {y2}\")\n",
        "    else:\n",
        "        print(\"=> No hay diferencia significativa entre las medias\")\n",
        "    \n",
        "    print(\"=\" * 40)\n"
      ]
    },
    {
      "cell_type": "code",
      "execution_count": null,
      "id": "8d29b00f",
      "metadata": {},
      "outputs": [],
      "source": [
        "def count_hashtags(text):\n",
        "    return len(re.findall(r'#\\b[a-zA-Z]\\w*', text))"
      ]
    },
    {
      "cell_type": "code",
      "execution_count": null,
      "id": "c03a5aee",
      "metadata": {},
      "outputs": [],
      "source": [
        "# Apply to each DataFrame\n",
        "df_16_filtered[\"hashtag_count\"] = df_16_filtered[\"Tweet\"].astype(str).apply(count_hashtags)\n",
        "df_20_filtered[\"hashtag_count\"] = df_20_filtered[\"Tweet\"].astype(str).apply(count_hashtags)\n",
        "df_24_filtered[\"hashtag_count\"] = df_24_filtered[\"Tweet\"].astype(str).apply(count_hashtags)\n",
        "\n",
        "df_16_filtered[\"hashtag_count\"].hist(bins=50)"
      ]
    },
    {
      "cell_type": "code",
      "execution_count": null,
      "id": "bb9d45bc",
      "metadata": {},
      "outputs": [],
      "source": [
        "import numpy as np\n",
        "from itertools import combinations\n",
        "\n",
        "# Función to bootstrap\n",
        "def bootstrap_diff_mean(grupo1, grupo2, n_iter=10000, ci=95):\n",
        "    diffs = []\n",
        "    for _ in range(n_iter):\n",
        "        sample1 = np.random.choice(grupo1, size=len(grupo1), replace=True)\n",
        "        sample2 = np.random.choice(grupo2, size=len(grupo2), replace=True)\n",
        "        diffs.append(np.mean(sample1) - np.mean(sample2))\n",
        "    lower = np.percentile(diffs, (100 - ci) / 2)\n",
        "    upper = np.percentile(diffs, 100 - (100 - ci) / 2)\n",
        "    return lower, upper\n",
        "\n",
        "grupo1 = df_16_filtered[\"hashtag_count\"].values\n",
        "grupo2 = df_20_filtered[\"hashtag_count\"].values\n",
        "grupo3 = df_24_filtered[\"hashtag_count\"].values\n",
        "\n",
        "todos = [(16, grupo1), (20, grupo2), (24, grupo3)]\n",
        "\n",
        "for ((y1, g1), (y2, g2)) in combinations(todos, 2):\n",
        "    print(f\"{y1} vs {y2}\")\n",
        "    print(f\"Medias: {y1} = {np.mean(g1):.3f}, {y2} = {np.mean(g2):.3f}\")\n",
        "    \n",
        "    ic_low, ic_up = bootstrap_diff_mean(g1, g2)\n",
        "    print(f\"IC 95% (media {y1} - media {y2}): [{ic_low:.3f}, {ic_up:.3f}]\")\n",
        "    \n",
        "    if ic_low > 0:\n",
        "        print(f\"=> La media de {y1} es significativamente mayor que la de {y2}\")\n",
        "    elif ic_up < 0:\n",
        "        print(f\"=> La media de {y1} es significativamente menor que la de {y2}\")\n",
        "    else:\n",
        "        print(\"=> No hay diferencia significativa entre las medias\")\n",
        "    \n",
        "    print(\"=\" * 40)\n"
      ]
    },
    {
      "cell_type": "code",
      "execution_count": null,
      "id": "d6eeca86",
      "metadata": {},
      "outputs": [],
      "source": [
        "# Function to count mentions (excluding \"RT @user:\" because in 2016 retweets were saved like that and we don't want to include them in the analysis)\n",
        "def count_mentions(text, exclude_rt=False):\n",
        "    if exclude_rt:\n",
        "        text = re.sub(r'^RT @\\w+: ', '', text)  # Remove \"RT @user: \" at the start\n",
        "    return len(re.findall(r'@\\w+', text))  # Count mentions (@ followed by letters, numbers, _)\n",
        "\n",
        "# Apply to each DataFrame\n",
        "df_16_filtered[\"mention_count\"] = df_16_filtered[\"Tweet\"].astype(str).apply(lambda x: count_mentions(x, exclude_rt=True))\n",
        "df_20_filtered[\"mention_count\"] = df_20_filtered[\"Tweet\"].astype(str).apply(lambda x: count_mentions(x, exclude_rt=False))\n",
        "df_24_filtered[\"mention_count\"] = df_24_filtered[\"Tweet\"].astype(str).apply(lambda x: count_mentions(x, exclude_rt=False))"
      ]
    },
    {
      "cell_type": "code",
      "execution_count": null,
      "id": "20842ae8",
      "metadata": {},
      "outputs": [],
      "source": [
        "df_16_filtered[\"mention_count\"].hist(bins=50)"
      ]
    },
    {
      "cell_type": "code",
      "execution_count": null,
      "id": "2d50ded6",
      "metadata": {},
      "outputs": [],
      "source": [
        "import numpy as np\n",
        "from itertools import combinations\n",
        "\n",
        "# Función para bootstrap del intervalo de confianza\n",
        "def bootstrap_diff_mean(grupo1, grupo2, n_iter=10000, ci=95):\n",
        "    diffs = []\n",
        "    for _ in range(n_iter):\n",
        "        sample1 = np.random.choice(grupo1, size=len(grupo1), replace=True)\n",
        "        sample2 = np.random.choice(grupo2, size=len(grupo2), replace=True)\n",
        "        diffs.append(np.mean(sample1) - np.mean(sample2))\n",
        "    lower = np.percentile(diffs, (100 - ci) / 2)\n",
        "    upper = np.percentile(diffs, 100 - (100 - ci) / 2)\n",
        "    return lower, upper\n",
        "\n",
        "# Tus datos\n",
        "grupo1 = df_16_filtered[\"mention_count\"].values\n",
        "grupo2 = df_20_filtered[\"mention_count\"].values\n",
        "grupo3 = df_24_filtered[\"mention_count\"].values\n",
        "\n",
        "todos = [(16, grupo1), (20, grupo2), (24, grupo3)]\n",
        "\n",
        "# Comparación por pares\n",
        "for ((y1, g1), (y2, g2)) in combinations(todos, 2):\n",
        "    print(f\"{y1} vs {y2}\")\n",
        "    print(f\"Medias: {y1} = {np.mean(g1):.3f}, {y2} = {np.mean(g2):.3f}\")\n",
        "    \n",
        "    ic_low, ic_up = bootstrap_diff_mean(g1, g2)\n",
        "    print(f\"IC 95% (media {y1} - media {y2}): [{ic_low:.3f}, {ic_up:.3f}]\")\n",
        "    \n",
        "    if ic_low > 0:\n",
        "        print(f\"=> La media de {y1} es significativamente mayor que la de {y2}\")\n",
        "    elif ic_up < 0:\n",
        "        print(f\"=> La media de {y1} es significativamente menor que la de {y2}\")\n",
        "    else:\n",
        "        print(\"=> No hay diferencia significativa entre las medias\")\n",
        "    \n",
        "    print(\"=\" * 40)\n"
      ]
    },
    {
      "cell_type": "code",
      "execution_count": null,
      "id": "e1e3d043",
      "metadata": {},
      "outputs": [],
      "source": [
        "# Function to count URLs starting with \"https://\"\n",
        "def count_urls(text):\n",
        "    return len(re.findall(r'https://\\S+', text, re.IGNORECASE))\n",
        "\n",
        "# Apply to each DataFrame\n",
        "df_16_filtered[\"url_count\"] = df_16_filtered[\"Tweet\"].astype(str).apply(count_urls)\n",
        "df_20_filtered[\"url_count\"] = df_20_filtered[\"Tweet\"].astype(str).apply(count_urls)\n",
        "df_24_filtered[\"url_count\"] = df_24_filtered[\"Tweet\"].astype(str).apply(count_urls)\n",
        "\n",
        "\n",
        "df_16_filtered[\"url_count\"].hist(bins=50)"
      ]
    },
    {
      "cell_type": "code",
      "execution_count": null,
      "id": "60f7203a",
      "metadata": {},
      "outputs": [],
      "source": [
        "import numpy as np\n",
        "from itertools import combinations\n",
        "\n",
        "# Función para bootstrap del intervalo de confianza\n",
        "def bootstrap_diff_mean(grupo1, grupo2, n_iter=10000, ci=95):\n",
        "    diffs = []\n",
        "    for _ in range(n_iter):\n",
        "        sample1 = np.random.choice(grupo1, size=len(grupo1), replace=True)\n",
        "        sample2 = np.random.choice(grupo2, size=len(grupo2), replace=True)\n",
        "        diffs.append(np.mean(sample1) - np.mean(sample2))\n",
        "    lower = np.percentile(diffs, (100 - ci) / 2)\n",
        "    upper = np.percentile(diffs, 100 - (100 - ci) / 2)\n",
        "    return lower, upper\n",
        "\n",
        "# Tus datos\n",
        "grupo1 = df_16_filtered[\"url_count\"].values\n",
        "grupo2 = df_20_filtered[\"url_count\"].values\n",
        "grupo3 = df_24_filtered[\"url_count\"].values\n",
        "\n",
        "todos = [(16, grupo1), (20, grupo2), (24, grupo3)]\n",
        "\n",
        "# Comparación por pares\n",
        "for ((y1, g1), (y2, g2)) in combinations(todos, 2):\n",
        "    print(f\"{y1} vs {y2}\")\n",
        "    print(f\"Medias: {y1} = {np.mean(g1):.3f}, {y2} = {np.mean(g2):.3f}\")\n",
        "    \n",
        "    ic_low, ic_up = bootstrap_diff_mean(g1, g2)\n",
        "    print(f\"IC 95% (media {y1} - media {y2}): [{ic_low:.3f}, {ic_up:.3f}]\")\n",
        "    \n",
        "    if ic_low > 0:\n",
        "        print(f\"=> La media de {y1} es significativamente mayor que la de {y2}\")\n",
        "    elif ic_up < 0:\n",
        "        print(f\"=> La media de {y1} es significativamente menor que la de {y2}\")\n",
        "    else:\n",
        "        print(\"=> No hay diferencia significativa entre las medias\")\n",
        "    \n",
        "    print(\"=\" * 40)\n"
      ]
    }
  ],
  "metadata": {
    "colab": {
      "provenance": []
    },
    "kernelspec": {
      "display_name": "base",
      "language": "python",
      "name": "python3"
    },
    "language_info": {
      "codemirror_mode": {
        "name": "ipython",
        "version": 3
      },
      "file_extension": ".py",
      "mimetype": "text/x-python",
      "name": "python",
      "nbconvert_exporter": "python",
      "pygments_lexer": "ipython3",
      "version": "3.11.5"
    }
  },
  "nbformat": 4,
  "nbformat_minor": 5
}
