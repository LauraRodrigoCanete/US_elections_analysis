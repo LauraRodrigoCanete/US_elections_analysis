{
 "cells": [
  {
   "cell_type": "code",
   "execution_count": null,
   "id": "84e6a00c-0dd4-4cf2-aedc-abf68c978f4e",
   "metadata": {},
   "outputs": [],
   "source": [
    "import pandas as pd\n",
    "users_data_file = \"users_common_data.csv\"\n",
    "user_file = \"usa162024.csv\"\n",
    "edges_file = \"aristas_p_y.csv\"\n",
    "muestra = \"muestra_contagio.csv\"\n",
    "\n",
    "path =\"../data/\"\n",
    "import pandas as pd\n",
    "df_user = pd.read_csv(user_file)\n",
    "\n",
    "df_edges = pd.read_csv(edges_file)\n",
    "# pair sorted alphabetically so that it repeats\n",
    "df_edges['pair_key'] = df_edges.apply(lambda row: tuple(sorted([row['user1'], row['user2']])), axis=1)\n",
    "# eliminate duplicates\n",
    "df_edges = df_edges.drop_duplicates(subset='pair_key').drop(columns='pair_key').reset_index(drop=True)\n",
    "df_edges.columns = [\"user1\", \t\"user2\", \t\"weight\", \t\"party\", \"year\"]\n",
    "df_edges.weight  = df_edges.weight.apply(lambda x: round(x,3))\n",
    "\n",
    "df_user_data = pd.read_csv(users_data_file)\n",
    "\n",
    "url_opiniones = \"example\"\n",
    "\n",
    "# load spreadsheet in df\n",
    "df_opiniones = pd.read_csv(url_opiniones)\n",
    "\n",
    "# sample of users to evaluate\n",
    "muestra  = pd.read_csv(muestra,sep=\";\")"
   ]
  },
  {
   "cell_type": "code",
   "execution_count": null,
   "id": "159ed7fd-a54d-4538-a6cb-de98c346031e",
   "metadata": {},
   "outputs": [],
   "source": [
    "from IPython.display import display,clear_output\n",
    "def display_user(user,year,party):\n",
    "    filter_user = (df_user.User == user) & (df_user.year==year) & (df_user.party==party)\n",
    "    filter_edges = (df_edges.user1 == user) & (df_edges.year==year) & (df_edges.party==party)\n",
    "    df_edges_filtered = df_edges[filter_edges]\n",
    "    df_user_filtered = df_user[filter_user]\n",
    "    \n",
    "    print(\"=\"*50)\n",
    "    print(user,year,party,end=\" \")\n",
    "    if len(df_user_filtered)>0:\n",
    "        display(df_user_filtered[[\"Tweet\"]])        \n",
    "    return\n",
    "\n",
    "def display_user_both(user,year):\n",
    "    display_user(user,year,\"dem\")\n",
    "    display_user(user,year,\"rep\")\n",
    "    return\n",
    "\n",
    "def display_user_all(user):\n",
    "    for year in [16,20,24]:\n",
    "        for party in [\"dem\",\"rep\"]:\n",
    "            display_user(user,year,party)\n",
    "    return"
   ]
  },
  {
   "cell_type": "markdown",
   "id": "9c7b18f8-cc1d-4ae1-b712-4ef2c64d1f8f",
   "metadata": {},
   "source": [
    "Ir haciendo enter en la casilla input para ver los datos del siguiente "
   ]
  },
  {
   "cell_type": "code",
   "execution_count": null,
   "id": "246d8e4c-f2a3-413e-81fc-19935f876021",
   "metadata": {},
   "outputs": [],
   "source": [
    "pd.set_option('display.max_colwidth', None)\n",
    "muestra[\"party\"] = None  \n",
    "\n",
    "for pos, row in muestra.iterrows():\n",
    "    display_user_both(row[\"screen\"], row[\"year\"])\n",
    "    user_input = input(\"Party: \") \n",
    "    muestra.at[pos, \"party\"] = user_input  \n",
    "    clear_output(wait=True)"
   ]
  },
  {
   "cell_type": "code",
   "execution_count": null,
   "id": "f3ef0f17-a7fd-4ab2-b8f7-e0fe88024987",
   "metadata": {},
   "outputs": [],
   "source": [
    "muestra.to_csv(\"muestra_completada.csv\",index=False)"
   ]
  }
 ],
 "metadata": {
  "kernelspec": {
   "display_name": "base",
   "language": "python",
   "name": "python3"
  },
  "language_info": {
   "codemirror_mode": {
    "name": "ipython",
    "version": 3
   },
   "file_extension": ".py",
   "mimetype": "text/x-python",
   "name": "python",
   "nbconvert_exporter": "python",
   "pygments_lexer": "ipython3",
   "version": "3.11.5"
  }
 },
 "nbformat": 4,
 "nbformat_minor": 5
}
